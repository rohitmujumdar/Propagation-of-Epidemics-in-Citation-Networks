{
 "cells": [
  {
   "cell_type": "code",
   "execution_count": 102,
   "metadata": {},
   "outputs": [],
   "source": [
    "import pandas as pd\n",
    "import os\n",
    "import json\n",
    "from tqdm import tqdm\n",
    "import networkx as nx\n",
    "import semanticscholar as sch\n",
    "import urllib\n",
    "import json\n",
    "import requests\n",
    "import jsonlines\n",
    "import statistics\n",
    "from nltk.corpus import stopwords\n",
    "stop = stopwords.words('english')\n",
    "from sklearn.feature_extraction.text import TfidfVectorizer\n",
    "from sklearn.model_selection import train_test_split\n",
    "from sklearn.feature_extraction.text import CountVectorizer\n",
    "from sklearn.feature_extraction.text import TfidfTransformer\n",
    "from sklearn.naive_bayes import MultinomialNB\n",
    "from sklearn.linear_model import LogisticRegression\n",
    "from sklearn.ensemble import RandomForestClassifier\n",
    "from sklearn.svm import LinearSVC\n",
    "from sklearn.model_selection import cross_val_score\n",
    "from sklearn.cluster import MiniBatchKMeans"
   ]
  },
  {
   "cell_type": "code",
   "execution_count": 103,
   "metadata": {},
   "outputs": [],
   "source": [
    "def compute_rating(ratings):\n",
    "    individual_ratings = [int(item.split(\":\")[0]) for item in ratings]\n",
    "    score = round(statistics.mean(individual_ratings))\n",
    "    return categorize(score)\n",
    "\n",
    "def categorize(score):\n",
    "    if score < 4:\n",
    "        return 'weak'\n",
    "    if score in (4,5):\n",
    "        return 'avg'\n",
    "    if score in (6,7):\n",
    "        return 'good'\n",
    "    else: return 'strong'"
   ]
  },
  {
   "cell_type": "code",
   "execution_count": 108,
   "metadata": {},
   "outputs": [
    {
     "data": {
      "text/html": [
       "<div>\n",
       "<style scoped>\n",
       "    .dataframe tbody tr th:only-of-type {\n",
       "        vertical-align: middle;\n",
       "    }\n",
       "\n",
       "    .dataframe tbody tr th {\n",
       "        vertical-align: top;\n",
       "    }\n",
       "\n",
       "    .dataframe thead th {\n",
       "        text-align: right;\n",
       "    }\n",
       "</style>\n",
       "<table border=\"1\" class=\"dataframe\">\n",
       "  <thead>\n",
       "    <tr style=\"text-align: right;\">\n",
       "      <th></th>\n",
       "      <th>forum</th>\n",
       "      <th>review_ratings</th>\n",
       "      <th>decision</th>\n",
       "      <th>submission_content</th>\n",
       "      <th>rating</th>\n",
       "      <th>title</th>\n",
       "    </tr>\n",
       "  </thead>\n",
       "  <tbody>\n",
       "    <tr>\n",
       "      <th>0</th>\n",
       "      <td>Hk6kPgZA-</td>\n",
       "      <td>[9: Top 15% of accepted papers, strong accept,...</td>\n",
       "      <td>Accept (Oral)</td>\n",
       "      <td>{'title': 'Certifying Some Distributional Robu...</td>\n",
       "      <td>strong</td>\n",
       "      <td>Certifying Some Distributional Robustness with...</td>\n",
       "    </tr>\n",
       "    <tr>\n",
       "      <th>1</th>\n",
       "      <td>ByED-X-0W</td>\n",
       "      <td>[4: Ok but not good enough - rejection, 6: Mar...</td>\n",
       "      <td>Reject</td>\n",
       "      <td>{'title': 'Parametric Information Bottleneck t...</td>\n",
       "      <td>avg</td>\n",
       "      <td>Parametric Information Bottleneck to Optimize ...</td>\n",
       "    </tr>\n",
       "    <tr>\n",
       "      <th>2</th>\n",
       "      <td>HktJec1RZ</td>\n",
       "      <td>[6: Marginally above acceptance threshold, 6: ...</td>\n",
       "      <td>Accept (Poster)</td>\n",
       "      <td>{'title': 'Towards Neural Phrase-based Machine...</td>\n",
       "      <td>good</td>\n",
       "      <td>Towards Neural Phrase-based Machine Translation</td>\n",
       "    </tr>\n",
       "    <tr>\n",
       "      <th>3</th>\n",
       "      <td>S1pWFzbAW</td>\n",
       "      <td>[6: Marginally above acceptance threshold, 6: ...</td>\n",
       "      <td>Invite to Workshop Track</td>\n",
       "      <td>{'title': 'Weightless: Lossy Weight Encoding F...</td>\n",
       "      <td>avg</td>\n",
       "      <td>Weightless: Lossy Weight Encoding For Deep Neu...</td>\n",
       "    </tr>\n",
       "    <tr>\n",
       "      <th>4</th>\n",
       "      <td>H1UOm4gA-</td>\n",
       "      <td>[7: Good paper, accept, 6: Marginally above ac...</td>\n",
       "      <td>Accept (Poster)</td>\n",
       "      <td>{'title': 'Interactive Grounded Language Acqui...</td>\n",
       "      <td>good</td>\n",
       "      <td>Interactive Grounded Language Acquisition and ...</td>\n",
       "    </tr>\n",
       "    <tr>\n",
       "      <th>...</th>\n",
       "      <td>...</td>\n",
       "      <td>...</td>\n",
       "      <td>...</td>\n",
       "      <td>...</td>\n",
       "      <td>...</td>\n",
       "      <td>...</td>\n",
       "    </tr>\n",
       "    <tr>\n",
       "      <th>905</th>\n",
       "      <td>HJ5AUm-CZ</td>\n",
       "      <td>[7: Good paper, accept, 5: Marginally below ac...</td>\n",
       "      <td>Reject</td>\n",
       "      <td>{'title': 'The Variational Homoencoder: Learni...</td>\n",
       "      <td>good</td>\n",
       "      <td>The Variational Homoencoder: Learning to Infer...</td>\n",
       "    </tr>\n",
       "    <tr>\n",
       "      <th>906</th>\n",
       "      <td>rJ5C67-C-</td>\n",
       "      <td>[5: Marginally below acceptance threshold, 5: ...</td>\n",
       "      <td>Reject</td>\n",
       "      <td>{'title': 'Hyperedge2vec: Distributed Represen...</td>\n",
       "      <td>avg</td>\n",
       "      <td>Hyperedge2vec: Distributed Representations for...</td>\n",
       "    </tr>\n",
       "    <tr>\n",
       "      <th>907</th>\n",
       "      <td>HkPCrEZ0Z</td>\n",
       "      <td>[5: Marginally below acceptance threshold, 5: ...</td>\n",
       "      <td>Reject</td>\n",
       "      <td>{'title': 'Combining Model-based and Model-fre...</td>\n",
       "      <td>avg</td>\n",
       "      <td>Combining Model-based and Model-free RL via Mu...</td>\n",
       "    </tr>\n",
       "    <tr>\n",
       "      <th>908</th>\n",
       "      <td>Syt0r4bRZ</td>\n",
       "      <td>[2: Strong rejection, 5: Marginally below acce...</td>\n",
       "      <td>Reject</td>\n",
       "      <td>{'title': 'Tree2Tree Learning with Memory Unit...</td>\n",
       "      <td>avg</td>\n",
       "      <td>Tree2Tree Learning with Memory Unit</td>\n",
       "    </tr>\n",
       "    <tr>\n",
       "      <th>909</th>\n",
       "      <td>S1sRrN-CW</td>\n",
       "      <td>[3: Clear rejection, 5: Marginally below accep...</td>\n",
       "      <td>Reject</td>\n",
       "      <td>{'title': 'Revisiting Knowledge Base Embedding...</td>\n",
       "      <td>avg</td>\n",
       "      <td>Revisiting Knowledge Base Embedding as Tensor ...</td>\n",
       "    </tr>\n",
       "  </tbody>\n",
       "</table>\n",
       "<p>910 rows × 6 columns</p>\n",
       "</div>"
      ],
      "text/plain": [
       "         forum                                     review_ratings  \\\n",
       "0    Hk6kPgZA-  [9: Top 15% of accepted papers, strong accept,...   \n",
       "1    ByED-X-0W  [4: Ok but not good enough - rejection, 6: Mar...   \n",
       "2    HktJec1RZ  [6: Marginally above acceptance threshold, 6: ...   \n",
       "3    S1pWFzbAW  [6: Marginally above acceptance threshold, 6: ...   \n",
       "4    H1UOm4gA-  [7: Good paper, accept, 6: Marginally above ac...   \n",
       "..         ...                                                ...   \n",
       "905  HJ5AUm-CZ  [7: Good paper, accept, 5: Marginally below ac...   \n",
       "906  rJ5C67-C-  [5: Marginally below acceptance threshold, 5: ...   \n",
       "907  HkPCrEZ0Z  [5: Marginally below acceptance threshold, 5: ...   \n",
       "908  Syt0r4bRZ  [2: Strong rejection, 5: Marginally below acce...   \n",
       "909  S1sRrN-CW  [3: Clear rejection, 5: Marginally below accep...   \n",
       "\n",
       "                     decision  \\\n",
       "0               Accept (Oral)   \n",
       "1                      Reject   \n",
       "2             Accept (Poster)   \n",
       "3    Invite to Workshop Track   \n",
       "4             Accept (Poster)   \n",
       "..                        ...   \n",
       "905                    Reject   \n",
       "906                    Reject   \n",
       "907                    Reject   \n",
       "908                    Reject   \n",
       "909                    Reject   \n",
       "\n",
       "                                    submission_content  rating  \\\n",
       "0    {'title': 'Certifying Some Distributional Robu...  strong   \n",
       "1    {'title': 'Parametric Information Bottleneck t...     avg   \n",
       "2    {'title': 'Towards Neural Phrase-based Machine...    good   \n",
       "3    {'title': 'Weightless: Lossy Weight Encoding F...     avg   \n",
       "4    {'title': 'Interactive Grounded Language Acqui...    good   \n",
       "..                                                 ...     ...   \n",
       "905  {'title': 'The Variational Homoencoder: Learni...    good   \n",
       "906  {'title': 'Hyperedge2vec: Distributed Represen...     avg   \n",
       "907  {'title': 'Combining Model-based and Model-fre...     avg   \n",
       "908  {'title': 'Tree2Tree Learning with Memory Unit...     avg   \n",
       "909  {'title': 'Revisiting Knowledge Base Embedding...     avg   \n",
       "\n",
       "                                                 title  \n",
       "0    Certifying Some Distributional Robustness with...  \n",
       "1    Parametric Information Bottleneck to Optimize ...  \n",
       "2      Towards Neural Phrase-based Machine Translation  \n",
       "3    Weightless: Lossy Weight Encoding For Deep Neu...  \n",
       "4    Interactive Grounded Language Acquisition and ...  \n",
       "..                                                 ...  \n",
       "905  The Variational Homoencoder: Learning to Infer...  \n",
       "906  Hyperedge2vec: Distributed Representations for...  \n",
       "907  Combining Model-based and Model-free RL via Mu...  \n",
       "908                Tree2Tree Learning with Memory Unit  \n",
       "909  Revisiting Knowledge Base Embedding as Tensor ...  \n",
       "\n",
       "[910 rows x 6 columns]"
      ]
     },
     "execution_count": 108,
     "metadata": {},
     "output_type": "execute_result"
    }
   ],
   "source": [
    "cur_path = os.getcwd()\n",
    "review_path = os.path.relpath('..//data//paper_quality//', cur_path)\n",
    "\n",
    "review_list = []\n",
    "with jsonlines.open(review_path+'\\\\'+'iclr2018_metadata.jsonl') as f:\n",
    "    review_list = [line for line in f.iter() if len(line['review_ratings'])>0]\n",
    "review_df = pd.DataFrame(review_list)\n",
    "review_df['rating'] = review_df['review_ratings'].apply(lambda x : compute_rating(x))\n",
    "review_df['title'] = review_df['submission_content'].apply(lambda x : x['title'])\n",
    "review_df.to_pickle(\"..\\\\data\\\\paper_quality\\\\review_data.pkl\")\n",
    "review_df = pd.read_pickle(\"..\\\\data\\\\paper_quality\\\\review_data.pkl\")\n",
    "review_df"
   ]
  },
  {
   "cell_type": "code",
   "execution_count": 85,
   "metadata": {},
   "outputs": [],
   "source": [
    "'''            \n",
    "with jsonlines.open(review_path+'\\\\'+'iclr2018_metadata.jsonl') as f:\n",
    "\n",
    "    for line in f.iter():\n",
    "        individual_ratings = [int(item.split(\":\")[0]) for item in line['review_ratings']]\n",
    "        if len(individual_ratings)>0:\n",
    "            ratings_list.append(round(statistics.mean(individual_ratings)))\n",
    "            idea_list.append(line['submission_content']['abstract'])\n",
    "            tldr_list.append(' '.join(line['submission_content']['keywords']))\n",
    "            \n",
    "rating_df = pd.DataFrame()\n",
    "ratings_list = []\n",
    "idea_list = []\n",
    "tldr_list = []\n",
    "\n",
    "\n",
    "rating_df['keywords'] = tldr_list                        \n",
    "rating_df['idea'] = idea_list\n",
    "rating_df['rating'] = ratings_list\n",
    "\n",
    "rating_df['idea'] = rating_df['idea'].apply(lambda x: ' '.join([item for item in x.split() if item not in stop])).str.lower()\n",
    "rating_df['idea'] = rating_df['idea'].str.lower()\n",
    "rating_df['rating'] = rating_df['rating'].apply(lambda x: categorize(x)) \n",
    "'''"
   ]
  },
  {
   "cell_type": "code",
   "execution_count": 88,
   "metadata": {},
   "outputs": [],
   "source": [
    "tfidf = TfidfVectorizer(sublinear_tf=True, norm='l2',ngram_range=(2,4), lowercase=True, stop_words='english')\n",
    "features_abstract = tfidf.fit_transform(rating_df.idea).toarray()\n",
    "features_keywords = tfidf.fit_transform(rating_df.keywords).toarray()\n",
    "labels = rating_df.rating"
   ]
  },
  {
   "cell_type": "code",
   "execution_count": 81,
   "metadata": {},
   "outputs": [
    {
     "name": "stderr",
     "output_type": "stream",
     "text": [
      "100%|██████████| 3/3 [00:02<00:00,  1.36it/s]\n"
     ]
    }
   ],
   "source": [
    "models = [\n",
    "    RandomForestClassifier(n_estimators=20, max_depth=3, random_state=0),\n",
    "    LinearSVC(),\n",
    "    MultinomialNB()\n",
    "]\n",
    "CV = 5\n",
    "cv_df = pd.DataFrame(index=range(CV * len(models)))\n",
    "entries = []\n",
    "for model in tqdm(models):\n",
    "    model_name = model.__class__.__name__\n",
    "    accuracies = cross_val_score(model, features_keywords, labels, scoring='accuracy', cv=CV)\n",
    "    for fold_idx, accuracy in enumerate(accuracies):\n",
    "        entries.append((model_name, fold_idx, accuracy))\n",
    "        cv_df = pd.DataFrame(entries, columns=['model_name', 'fold_idx', 'accuracy'])"
   ]
  },
  {
   "cell_type": "code",
   "execution_count": 82,
   "metadata": {},
   "outputs": [
    {
     "data": {
      "image/png": "[encoded data removed]",
      "text/plain": [
       "<Figure size 432x288 with 1 Axes>"
      ]
     },
     "metadata": {
      "needs_background": "light"
     },
     "output_type": "display_data"
    },
    {
     "data": {
      "text/plain": [
       "model_name\n",
       "LinearSVC                 0.489011\n",
       "MultinomialNB             0.462637\n",
       "RandomForestClassifier    0.458242\n",
       "Name: accuracy, dtype: float64"
      ]
     },
     "execution_count": 82,
     "metadata": {},
     "output_type": "execute_result"
    }
   ],
   "source": [
    "import seaborn as sns\n",
    "import matplotlib.pyplot as plt\n",
    "sns.boxplot(x='model_name', y='accuracy', data=cv_df)\n",
    "sns.stripplot(x='model_name', y='accuracy', data=cv_df, \n",
    "              size=8, jitter=True, edgecolor=\"gray\", linewidth=2)\n",
    "plt.show()\n",
    "cv_df.groupby('model_name').accuracy.mean()"
   ]
  },
  {
   "cell_type": "code",
   "execution_count": 89,
   "metadata": {},
   "outputs": [
    {
     "name": "stdout",
     "output_type": "stream",
     "text": [
      "Fit 2 clusters\n",
      "Fit 4 clusters\n",
      "Fit 6 clusters\n",
      "Fit 8 clusters\n",
      "Fit 10 clusters\n"
     ]
    },
    {
     "data": {
      "image/png": "[encoded data removed]",
      "text/plain": [
       "<Figure size 432x288 with 1 Axes>"
      ]
     },
     "metadata": {
      "needs_background": "light"
     },
     "output_type": "display_data"
    }
   ],
   "source": [
    "def find_optimal_clusters(data, max_k):\n",
    "    iters = range(2, max_k+1, 2)\n",
    "    \n",
    "    sse = []\n",
    "    for k in iters:\n",
    "        sse.append(MiniBatchKMeans(n_clusters=k, init_size=1024, batch_size=2048, random_state=20).fit(data).inertia_)\n",
    "        print('Fit {} clusters'.format(k))\n",
    "        \n",
    "    f, ax = plt.subplots(1, 1)\n",
    "    ax.plot(iters, sse, marker='o')\n",
    "    ax.set_xlabel('Cluster Centers')\n",
    "    ax.set_xticks(iters)\n",
    "    ax.set_xticklabels(iters)\n",
    "    ax.set_ylabel('SSE')\n",
    "    ax.set_title('SSE by Cluster Center Plot')\n",
    "    \n",
    "find_optimal_clusters(features_keywords,10)"
   ]
  },
  {
   "cell_type": "code",
   "execution_count": 90,
   "metadata": {},
   "outputs": [],
   "source": [
    "clusters = MiniBatchKMeans(n_clusters=6, init_size=1024, batch_size=2048, random_state=20).fit_predict(features_keywords)\n",
    "\n"
   ]
  },
  {
   "cell_type": "code",
   "execution_count": 95,
   "metadata": {},
   "outputs": [
    {
     "ename": "AttributeError",
     "evalue": "'numpy.ndarray' object has no attribute 'toarray'",
     "output_type": "error",
     "traceback": [
      "\u001b[1;31m---------------------------------------------------------------------------\u001b[0m",
      "\u001b[1;31mAttributeError\u001b[0m                            Traceback (most recent call last)",
      "\u001b[1;32m<ipython-input-95-a78fc54b5141>\u001b[0m in \u001b[0;36m<module>\u001b[1;34m\u001b[0m\n\u001b[0;32m      6\u001b[0m         \u001b[0mprint\u001b[0m\u001b[1;33m(\u001b[0m\u001b[1;34m','\u001b[0m\u001b[1;33m.\u001b[0m\u001b[0mjoin\u001b[0m\u001b[1;33m(\u001b[0m\u001b[1;33m[\u001b[0m\u001b[0mlabels\u001b[0m\u001b[1;33m[\u001b[0m\u001b[0mt\u001b[0m\u001b[1;33m]\u001b[0m \u001b[1;32mfor\u001b[0m \u001b[0mt\u001b[0m \u001b[1;32min\u001b[0m \u001b[0mnp\u001b[0m\u001b[1;33m.\u001b[0m\u001b[0margsort\u001b[0m\u001b[1;33m(\u001b[0m\u001b[0mr\u001b[0m\u001b[1;33m)\u001b[0m\u001b[1;33m[\u001b[0m\u001b[1;33m-\u001b[0m\u001b[0mn_terms\u001b[0m\u001b[1;33m:\u001b[0m\u001b[1;33m]\u001b[0m\u001b[1;33m]\u001b[0m\u001b[1;33m)\u001b[0m\u001b[1;33m)\u001b[0m\u001b[1;33m\u001b[0m\u001b[1;33m\u001b[0m\u001b[0m\n\u001b[0;32m      7\u001b[0m \u001b[1;33m\u001b[0m\u001b[0m\n\u001b[1;32m----> 8\u001b[1;33m \u001b[0mget_top_keywords\u001b[0m\u001b[1;33m(\u001b[0m\u001b[0mfeatures_keywords\u001b[0m\u001b[1;33m,\u001b[0m \u001b[0mclusters\u001b[0m\u001b[1;33m,\u001b[0m \u001b[0mtfidf\u001b[0m\u001b[1;33m.\u001b[0m\u001b[0mget_feature_names\u001b[0m\u001b[1;33m(\u001b[0m\u001b[1;33m)\u001b[0m\u001b[1;33m,\u001b[0m \u001b[1;36m10\u001b[0m\u001b[1;33m)\u001b[0m\u001b[1;33m\u001b[0m\u001b[1;33m\u001b[0m\u001b[0m\n\u001b[0m",
      "\u001b[1;32m<ipython-input-95-a78fc54b5141>\u001b[0m in \u001b[0;36mget_top_keywords\u001b[1;34m(data, clusters, labels, n_terms)\u001b[0m\n\u001b[0;32m      1\u001b[0m \u001b[1;32mdef\u001b[0m \u001b[0mget_top_keywords\u001b[0m\u001b[1;33m(\u001b[0m\u001b[0mdata\u001b[0m\u001b[1;33m,\u001b[0m \u001b[0mclusters\u001b[0m\u001b[1;33m,\u001b[0m \u001b[0mlabels\u001b[0m\u001b[1;33m,\u001b[0m \u001b[0mn_terms\u001b[0m\u001b[1;33m)\u001b[0m\u001b[1;33m:\u001b[0m\u001b[1;33m\u001b[0m\u001b[1;33m\u001b[0m\u001b[0m\n\u001b[1;32m----> 2\u001b[1;33m     \u001b[0mdf\u001b[0m \u001b[1;33m=\u001b[0m \u001b[0mpd\u001b[0m\u001b[1;33m.\u001b[0m\u001b[0mDataFrame\u001b[0m\u001b[1;33m(\u001b[0m\u001b[0mdata\u001b[0m\u001b[1;33m.\u001b[0m\u001b[0mtoarray\u001b[0m\u001b[1;33m(\u001b[0m\u001b[1;33m)\u001b[0m\u001b[1;33m)\u001b[0m\u001b[1;33m.\u001b[0m\u001b[0mgroupby\u001b[0m\u001b[1;33m(\u001b[0m\u001b[0mclusters\u001b[0m\u001b[1;33m)\u001b[0m\u001b[1;33m.\u001b[0m\u001b[0mmean\u001b[0m\u001b[1;33m(\u001b[0m\u001b[1;33m)\u001b[0m\u001b[1;33m\u001b[0m\u001b[1;33m\u001b[0m\u001b[0m\n\u001b[0m\u001b[0;32m      3\u001b[0m \u001b[1;33m\u001b[0m\u001b[0m\n\u001b[0;32m      4\u001b[0m     \u001b[1;32mfor\u001b[0m \u001b[0mi\u001b[0m\u001b[1;33m,\u001b[0m\u001b[0mr\u001b[0m \u001b[1;32min\u001b[0m \u001b[0mdf\u001b[0m\u001b[1;33m.\u001b[0m\u001b[0miterrows\u001b[0m\u001b[1;33m(\u001b[0m\u001b[1;33m)\u001b[0m\u001b[1;33m:\u001b[0m\u001b[1;33m\u001b[0m\u001b[1;33m\u001b[0m\u001b[0m\n\u001b[0;32m      5\u001b[0m         \u001b[0mprint\u001b[0m\u001b[1;33m(\u001b[0m\u001b[1;34m'\\nCluster {}'\u001b[0m\u001b[1;33m.\u001b[0m\u001b[0mformat\u001b[0m\u001b[1;33m(\u001b[0m\u001b[0mi\u001b[0m\u001b[1;33m)\u001b[0m\u001b[1;33m)\u001b[0m\u001b[1;33m\u001b[0m\u001b[1;33m\u001b[0m\u001b[0m\n",
      "\u001b[1;31mAttributeError\u001b[0m: 'numpy.ndarray' object has no attribute 'toarray'"
     ]
    }
   ],
   "source": [
    "def get_top_keywords(data, clusters, labels, n_terms):\n",
    "    df = pd.DataFrame(data.toarray()).groupby(clusters).mean()\n",
    "    \n",
    "    for i,r in df.iterrows():\n",
    "        print('\\nCluster {}'.format(i))\n",
    "        print(','.join([labels[t] for t in np.argsort(r)[-n_terms:]]))\n",
    "            \n",
    "get_top_keywords(features_keywords, clusters, tfidf.get_feature_names(), 10)"
   ]
  },
  {
   "cell_type": "code",
   "execution_count": null,
   "metadata": {},
   "outputs": [],
   "source": []
  }
 ],
 "metadata": {
  "kernelspec": {
   "display_name": "Python 3",
   "language": "python",
   "name": "python3"
  },
  "language_info": {
   "codemirror_mode": {
    "name": "ipython",
    "version": 3
   },
   "file_extension": ".py",
   "mimetype": "text/x-python",
   "name": "python",
   "nbconvert_exporter": "python",
   "pygments_lexer": "ipython3",
   "version": "3.7.9"
  }
 },
 "nbformat": 4,
 "nbformat_minor": 4
}
