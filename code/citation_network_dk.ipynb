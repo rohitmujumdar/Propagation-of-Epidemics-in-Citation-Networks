{
 "cells": [
  {
   "cell_type": "code",
   "execution_count": 128,
   "metadata": {},
   "outputs": [],
   "source": [
    "import pandas as pd\n",
    "import os\n",
    "import json\n",
    "from tqdm.auto import tqdm\n",
    "import networkx as nx\n",
    "import semanticscholar as sch\n",
    "import urllib\n",
    "import json\n",
    "import requests\n",
    "from fuzzywuzzy import fuzz\n",
    "import statistics\n",
    "from networkx.algorithms.dag import descendants\n",
    "import matplotlib.pyplot as plt"
   ]
  },
  {
   "cell_type": "code",
   "execution_count": 4,
   "metadata": {},
   "outputs": [],
   "source": [
    "cur_path = os.getcwd()\n",
    "\n",
    "file_path_iclr = os.path.relpath('..\\\\data\\\\paper_data_mag\\\\MAG_ICLR.json', cur_path)\n",
    "file_path_acl = os.path.relpath('..\\\\data\\\\paper_data_mag\\\\MAG_ACL.json', cur_path)\n",
    "file_path_cvpr = os.path.relpath('..\\\\data\\\\paper_data_mag\\\\MAG_CVPR.json', cur_path)\n",
    "file_path_emnlp = os.path.relpath('..\\\\data\\\\paper_data_mag\\\\MAG_EMNLP.json', cur_path)\n",
    "file_path_iccv = os.path.relpath('..\\\\data\\\\paper_data_mag\\\\MAG_ICCV.json', cur_path)\n",
    "file_path_iclr = os.path.relpath('..\\\\data\\\\paper_data_mag\\\\MAG_ICLR.json', cur_path)\n",
    "file_path_icml = os.path.relpath('..\\\\data\\\\paper_data_mag\\\\MAG_ICML.json', cur_path)\n",
    "file_path_naacl = os.path.relpath('..\\\\data\\\\paper_data_mag\\\\MAG_NAACL.json', cur_path)\n",
    "file_path_neurips = os.path.relpath('..\\\\data\\\\paper_data_mag\\\\MAG_NEURIPS.json', cur_path)"
   ]
  },
  {
   "cell_type": "code",
   "execution_count": 5,
   "metadata": {},
   "outputs": [],
   "source": [
    "def create_paper_data_df(file_path):\n",
    "    with open(file_path) as f_in:\n",
    "        paper_data_dict = json.load(f_in)\n",
    "    paper_data_records = paper_data_dict['entities']\n",
    "    paper_data_df = pd.DataFrame.from_records(paper_data_records)\n",
    "    return paper_data_df\n",
    "\n",
    "def fuzzy_matching(x,y):\n",
    "    return True if fuzz.partial_ratio(x,y) > 90 else False"
   ]
  },
  {
   "cell_type": "code",
   "execution_count": null,
   "metadata": {},
   "outputs": [],
   "source": [
    "iclr_paper_data = create_paper_data_df(file_path_iclr)\n",
    "references_list_iclr = [(rid,row['Id']) for idx,row in tqdm(iclr_paper_data.iterrows()) if type(row['RId'])!=float for rid in row['RId']]\n",
    "\n",
    "acl_paper_data = create_paper_data_df(file_path_acl)\n",
    "references_list_acl = [(rid,row['Id']) for idx,row in tqdm(acl_paper_data.iterrows()) if type(row['RId'])!=float for rid in row['RId']]\n",
    "\n",
    "cvpr_paper_data = create_paper_data_df(file_path_cvpr)\n",
    "references_list_cvpr = [(rid,row['Id']) for idx,row in tqdm(cvpr_paper_data.iterrows()) if type(row['RId'])!=float for rid in row['RId']]\n",
    "\n",
    "emnlp_paper_data = create_paper_data_df(file_path_emnlp)\n",
    "references_list_emnlp = [(rid,row['Id']) for idx,row in tqdm(emnlp_paper_data.iterrows()) if type(row['RId'])!=float for rid in row['RId']]\n",
    "\n",
    "iccv_paper_data = create_paper_data_df(file_path_iccv)\n",
    "references_list_iccv = [(rid,row['Id']) for idx,row in tqdm(iccv_paper_data.iterrows()) if type(row['RId'])!=float for rid in row['RId']]\n",
    "\n",
    "icml_paper_data = create_paper_data_df(file_path_icml)\n",
    "references_list_icml = [(rid,row['Id']) for idx,row in tqdm(icml_paper_data.iterrows()) if type(row['RId'])!=float for rid in row['RId']]\n",
    "\n",
    "naacl_paper_data = create_paper_data_df(file_path_naacl)\n",
    "references_list_naacl = [(rid,row['Id']) for idx,row in tqdm(naacl_paper_data.iterrows()) if type(row['RId'])!=float for rid in row['RId']]\n",
    "\n",
    "neurips_paper_data = create_paper_data_df(file_path_neurips)\n",
    "references_list_neurips = [(rid,row['Id']) for idx,row in tqdm(neurips_paper_data.iterrows()) if type(row['RId'])!=float for rid in row['RId']]\n"
   ]
  },
  {
   "cell_type": "code",
   "execution_count": 23,
   "metadata": {},
   "outputs": [],
   "source": [
    "all_paper_data_df = pd.concat([iclr_paper_data, acl_paper_data, cvpr_paper_data, emnlp_paper_data, iccv_paper_data, icml_paper_data, naacl_paper_data, neurips_paper_data])\n",
    "all_paper_data_df.to_pickle(\"..\\\\data\\\\all_paper_data.pkl\")"
   ]
  },
  {
   "cell_type": "code",
   "execution_count": 11,
   "metadata": {},
   "outputs": [],
   "source": [
    "all_paper_data_df = pd.read_pickle(\"..\\\\data\\\\all_paper_data.pkl\")\n"
   ]
  },
  {
   "cell_type": "code",
   "execution_count": null,
   "metadata": {},
   "outputs": [],
   "source": [
    "aw = all_paper_data_df.set_index('Id')['AW']\n",
    "f = all_paper_data_df.set_index('Id')['F']"
   ]
  },
  {
   "cell_type": "code",
   "execution_count": 25,
   "metadata": {},
   "outputs": [],
   "source": [
    "reference_df_iclr = pd.DataFrame(references_list_iclr, columns=['this_paper_infected','got_infected_by'])\n",
    "reference_df_acl = pd.DataFrame(references_list_acl, columns=['this_paper_infected','got_infected_by'])\n",
    "reference_df_cvpr = pd.DataFrame(references_list_cvpr, columns=['this_paper_infected','got_infected_by'])\n",
    "reference_df_emnlp = pd.DataFrame(references_list_emnlp, columns=['this_paper_infected','got_infected_by'])\n",
    "reference_df_iccv = pd.DataFrame(references_list_iccv, columns=['this_paper_infected','got_infected_by'])\n",
    "reference_df_icml = pd.DataFrame(references_list_icml, columns=['this_paper_infected','got_infected_by'])\n",
    "reference_df_naacl = pd.DataFrame(references_list_naacl, columns=['this_paper_infected','got_infected_by'])\n",
    "reference_df_neurips = pd.DataFrame(references_list_neurips, columns=['this_paper_infected','got_infected_by'])\n",
    "\n",
    "reference_df = pd.concat([reference_df_iclr, reference_df_acl, reference_df_cvpr, reference_df_emnlp, reference_df_iccv, reference_df_icml, reference_df_naacl, reference_df_neurips])\n",
    "reference_df.to_pickle(\"..\\\\data\\\\networks\\\\citation_network.pkl\")"
   ]
  },
  {
   "cell_type": "code",
   "execution_count": 9,
   "metadata": {},
   "outputs": [
    {
     "data": {
      "text/html": [
       "<div>\n",
       "<style scoped>\n",
       "    .dataframe tbody tr th:only-of-type {\n",
       "        vertical-align: middle;\n",
       "    }\n",
       "\n",
       "    .dataframe tbody tr th {\n",
       "        vertical-align: top;\n",
       "    }\n",
       "\n",
       "    .dataframe thead th {\n",
       "        text-align: right;\n",
       "    }\n",
       "</style>\n",
       "<table border=\"1\" class=\"dataframe\">\n",
       "  <thead>\n",
       "    <tr style=\"text-align: right;\">\n",
       "      <th></th>\n",
       "      <th>this_paper_infected</th>\n",
       "      <th>got_infected_by</th>\n",
       "    </tr>\n",
       "  </thead>\n",
       "  <tbody>\n",
       "    <tr>\n",
       "      <th>0</th>\n",
       "      <td>2963403868</td>\n",
       "      <td>2785994986</td>\n",
       "    </tr>\n",
       "    <tr>\n",
       "      <th>1</th>\n",
       "      <td>2963207607</td>\n",
       "      <td>2785994986</td>\n",
       "    </tr>\n",
       "    <tr>\n",
       "      <th>2</th>\n",
       "      <td>2134557905</td>\n",
       "      <td>2785994986</td>\n",
       "    </tr>\n",
       "    <tr>\n",
       "      <th>3</th>\n",
       "      <td>2154579312</td>\n",
       "      <td>2785994986</td>\n",
       "    </tr>\n",
       "    <tr>\n",
       "      <th>4</th>\n",
       "      <td>2966661</td>\n",
       "      <td>2785994986</td>\n",
       "    </tr>\n",
       "    <tr>\n",
       "      <th>...</th>\n",
       "      <td>...</td>\n",
       "      <td>...</td>\n",
       "    </tr>\n",
       "    <tr>\n",
       "      <th>2191</th>\n",
       "      <td>2482888308</td>\n",
       "      <td>2897127218</td>\n",
       "    </tr>\n",
       "    <tr>\n",
       "      <th>2192</th>\n",
       "      <td>2057624533</td>\n",
       "      <td>2897127218</td>\n",
       "    </tr>\n",
       "    <tr>\n",
       "      <th>2193</th>\n",
       "      <td>2103458172</td>\n",
       "      <td>2897127218</td>\n",
       "    </tr>\n",
       "    <tr>\n",
       "      <th>2194</th>\n",
       "      <td>2136885855</td>\n",
       "      <td>2897127218</td>\n",
       "    </tr>\n",
       "    <tr>\n",
       "      <th>2195</th>\n",
       "      <td>2804140211</td>\n",
       "      <td>2897127218</td>\n",
       "    </tr>\n",
       "  </tbody>\n",
       "</table>\n",
       "<p>409472 rows × 2 columns</p>\n",
       "</div>"
      ],
      "text/plain": [
       "      this_paper_infected  got_infected_by\n",
       "0              2963403868       2785994986\n",
       "1              2963207607       2785994986\n",
       "2              2134557905       2785994986\n",
       "3              2154579312       2785994986\n",
       "4                 2966661       2785994986\n",
       "...                   ...              ...\n",
       "2191           2482888308       2897127218\n",
       "2192           2057624533       2897127218\n",
       "2193           2103458172       2897127218\n",
       "2194           2136885855       2897127218\n",
       "2195           2804140211       2897127218\n",
       "\n",
       "[409472 rows x 2 columns]"
      ]
     },
     "execution_count": 9,
     "metadata": {},
     "output_type": "execute_result"
    }
   ],
   "source": [
    "reference_df = pd.read_pickle('..\\\\data\\\\networks\\\\citation_network.pkl')\n",
    "reference_df"
   ]
  },
  {
   "cell_type": "code",
   "execution_count": 12,
   "metadata": {},
   "outputs": [
    {
     "data": {
      "application/vnd.jupyter.widget-view+json": {
       "model_id": "58b41b7f638d4bb4b04a92badf1cf722",
       "version_major": 2,
       "version_minor": 0
      },
      "text/plain": [
       "HBox(children=(FloatProgress(value=1.0, bar_style='info', layout=Layout(width='20px'), max=1.0), HTML(value=''…"
      ]
     },
     "metadata": {},
     "output_type": "display_data"
    },
    {
     "name": "stdout",
     "output_type": "stream",
     "text": [
      "\n"
     ]
    }
   ],
   "source": [
    "valid_idx_infection = []\n",
    "all_paper_ids = set(all_paper_data_df['Id'].values)\n",
    "aw = all_paper_data_df.set_index('Id')['AW']\n",
    "f = all_paper_data_df.set_index('Id')['F']\n",
    "# print(all_paper_ids)\n",
    "for idx,row in tqdm(reference_df.iterrows()):\n",
    "    \n",
    "    source = row['this_paper_infected']\n",
    "    destination = row['got_infected_by']\n",
    "    if source in all_paper_ids and destination in all_paper_ids:\n",
    "        source_abstract = aw.at[source]\n",
    "        dest_abstract = aw.at[destination]\n",
    "        source_fos = f.at[source]\n",
    "        dest_fos = f.at[destination]\n",
    "        \n",
    "        # Make sure these fields aren't NaNs\n",
    "        if type(source_abstract) != float and type(dest_abstract) != float and type(source_fos) != float and type(dest_fos) != float:\n",
    "            #abstract overlap\n",
    "            source_abstract = set(source_abstract)\n",
    "            dest_abstract = set(dest_abstract)\n",
    "            abstract_overlap_score = len(set.intersection(source_abstract,dest_abstract))/min(len(source_abstract), len(dest_abstract))\n",
    "            #FOS overlap\n",
    "            source_fos = set([pair['FN'] for pair in source_fos])\n",
    "            dest_fos = set([pair['FN'] for pair in dest_fos])\n",
    "            fos_overlap_score = len(set.intersection(source_fos,dest_fos))/min(len(source_fos), len(dest_fos))\n",
    "            if abstract_overlap_score > 0.1 and fos_overlap_score > 0.1:\n",
    "                valid_idx_infection.append(idx)\n"
   ]
  },
  {
   "cell_type": "code",
   "execution_count": null,
   "metadata": {},
   "outputs": [],
   "source": [
    "infected_df = reference_df.iloc[valid_idx_infection, :]\n",
    "infected_df.to_pickle(\"..\\\\data\\\\networks\\\\citation_infection_network.pkl\")"
   ]
  }
 ],
 "metadata": {
  "kernelspec": {
   "display_name": "Python 3",
   "language": "python",
   "name": "python3"
  },
  "language_info": {
   "codemirror_mode": {
    "name": "ipython",
    "version": 3
   },
   "file_extension": ".py",
   "mimetype": "text/x-python",
   "name": "python",
   "nbconvert_exporter": "python",
   "pygments_lexer": "ipython3",
   "version": "3.7.9"
  }
 },
 "nbformat": 4,
 "nbformat_minor": 4
}
