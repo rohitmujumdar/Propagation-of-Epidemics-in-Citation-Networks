{
 "cells": [
  {
   "cell_type": "code",
   "execution_count": 69,
   "metadata": {},
   "outputs": [],
   "source": [
    "import pandas as pd\n",
    "import os\n",
    "import json\n",
    "from tqdm.auto import tqdm\n",
    "import networkx as nx\n",
    "import semanticscholar as sch\n",
    "import urllib\n",
    "import json\n",
    "import requests\n",
    "from fuzzywuzzy import fuzz\n",
    "import statistics\n",
    "from networkx.algorithms.dag import descendants\n",
    "import matplotlib.pyplot as plt"
   ]
  },
  {
   "cell_type": "code",
   "execution_count": 3,
   "metadata": {},
   "outputs": [],
   "source": [
    "# paper_attributes = pd.read_csv(\"paper_attributes.csv\")\n",
    "# our_paper_attributes =  paper_attributes[paper_attributes['Attribute'].isin(['AA.AfId','AA.AfN','AA.AuId','AA.AuN','AA.S','AW','BT','BV','C.CId','C.CN','CC','CitCon','D','ECC','F.FId','F.FN','Id','Pt','RId','Ti','Y'])]\n",
    "# our_paper_attributes"
   ]
  },
  {
   "cell_type": "code",
   "execution_count": 4,
   "metadata": {},
   "outputs": [],
   "source": [
    "cur_path = os.getcwd()\n",
    "\n",
    "file_path_iclr = os.path.relpath('..\\\\data\\\\paper_data_mag\\\\MAG_ICLR.json', cur_path)\n",
    "file_path_acl = os.path.relpath('..\\\\data\\\\paper_data_mag\\\\MAG_ACL.json', cur_path)\n",
    "file_path_cvpr = os.path.relpath('..\\\\data\\\\paper_data_mag\\\\MAG_CVPR.json', cur_path)\n",
    "file_path_emnlp = os.path.relpath('..\\\\data\\\\paper_data_mag\\\\MAG_EMNLP.json', cur_path)\n",
    "file_path_iccv = os.path.relpath('..\\\\data\\\\paper_data_mag\\\\MAG_ICCV.json', cur_path)\n",
    "file_path_iclr = os.path.relpath('..\\\\data\\\\paper_data_mag\\\\MAG_ICLR.json', cur_path)\n",
    "file_path_icml = os.path.relpath('..\\\\data\\\\paper_data_mag\\\\MAG_ICML.json', cur_path)\n",
    "file_path_naacl = os.path.relpath('..\\\\data\\\\paper_data_mag\\\\MAG_NAACL.json', cur_path)\n",
    "file_path_neurips = os.path.relpath('..\\\\data\\\\paper_data_mag\\\\MAG_NEURIPS.json', cur_path)"
   ]
  },
  {
   "cell_type": "code",
   "execution_count": 5,
   "metadata": {},
   "outputs": [],
   "source": [
    "def create_paper_data_df(file_path):\n",
    "    with open(file_path) as f_in:\n",
    "        paper_data_dict = json.load(f_in)\n",
    "    paper_data_records = paper_data_dict['entities']\n",
    "    paper_data_df = pd.DataFrame.from_records(paper_data_records)\n",
    "    return paper_data_df\n",
    "\n",
    "def fuzzy_matching(x,y):\n",
    "    return True if fuzz.partial_ratio(x,y) > 90 else False"
   ]
  },
  {
   "cell_type": "code",
   "execution_count": null,
   "metadata": {},
   "outputs": [],
   "source": [
    "iclr_paper_data = create_paper_data_df(file_path_iclr)\n",
    "references_list_iclr = [(rid,row['Id']) for idx,row in tqdm(iclr_paper_data.iterrows()) if type(row['RId'])!=float for rid in row['RId']]\n",
    "\n",
    "acl_paper_data = create_paper_data_df(file_path_acl)\n",
    "references_list_acl = [(rid,row['Id']) for idx,row in tqdm(acl_paper_data.iterrows()) if type(row['RId'])!=float for rid in row['RId']]\n",
    "\n",
    "cvpr_paper_data = create_paper_data_df(file_path_cvpr)\n",
    "references_list_cvpr = [(rid,row['Id']) for idx,row in tqdm(cvpr_paper_data.iterrows()) if type(row['RId'])!=float for rid in row['RId']]\n",
    "\n",
    "emnlp_paper_data = create_paper_data_df(file_path_emnlp)\n",
    "references_list_emnlp = [(rid,row['Id']) for idx,row in tqdm(emnlp_paper_data.iterrows()) if type(row['RId'])!=float for rid in row['RId']]\n",
    "\n",
    "iccv_paper_data = create_paper_data_df(file_path_iccv)\n",
    "references_list_iccv = [(rid,row['Id']) for idx,row in tqdm(iccv_paper_data.iterrows()) if type(row['RId'])!=float for rid in row['RId']]\n",
    "\n",
    "icml_paper_data = create_paper_data_df(file_path_icml)\n",
    "references_list_icml = [(rid,row['Id']) for idx,row in tqdm(icml_paper_data.iterrows()) if type(row['RId'])!=float for rid in row['RId']]\n",
    "\n",
    "naacl_paper_data = create_paper_data_df(file_path_naacl)\n",
    "references_list_naacl = [(rid,row['Id']) for idx,row in tqdm(naacl_paper_data.iterrows()) if type(row['RId'])!=float for rid in row['RId']]\n",
    "\n",
    "neurips_paper_data = create_paper_data_df(file_path_neurips)\n",
    "references_list_neurips = [(rid,row['Id']) for idx,row in tqdm(neurips_paper_data.iterrows()) if type(row['RId'])!=float for rid in row['RId']]\n"
   ]
  },
  {
   "cell_type": "code",
   "execution_count": 23,
   "metadata": {},
   "outputs": [],
   "source": [
    "all_paper_data_df = pd.concat([iclr_paper_data, acl_paper_data, cvpr_paper_data, emnlp_paper_data, iccv_paper_data, icml_paper_data, naacl_paper_data, neurips_paper_data])\n",
    "all_paper_data_df.to_pickle(\"..\\\\data\\\\all_paper_data.pkl\")"
   ]
  },
  {
   "cell_type": "code",
   "execution_count": 11,
   "metadata": {},
   "outputs": [],
   "source": [
    "all_paper_data_df = pd.read_pickle(\"..\\\\data\\\\all_paper_data.pkl\")\n"
   ]
  },
  {
   "cell_type": "code",
   "execution_count": null,
   "metadata": {},
   "outputs": [],
   "source": [
    "aw = all_paper_data_df.set_index('Id')['AW']\n",
    "f = all_paper_data_df.set_index('Id')['F']"
   ]
  },
  {
   "cell_type": "code",
   "execution_count": 25,
   "metadata": {},
   "outputs": [],
   "source": [
    "reference_df_iclr = pd.DataFrame(references_list_iclr, columns=['this_paper_infected','got_infected_by'])\n",
    "reference_df_acl = pd.DataFrame(references_list_acl, columns=['this_paper_infected','got_infected_by'])\n",
    "reference_df_cvpr = pd.DataFrame(references_list_cvpr, columns=['this_paper_infected','got_infected_by'])\n",
    "reference_df_emnlp = pd.DataFrame(references_list_emnlp, columns=['this_paper_infected','got_infected_by'])\n",
    "reference_df_iccv = pd.DataFrame(references_list_iccv, columns=['this_paper_infected','got_infected_by'])\n",
    "reference_df_icml = pd.DataFrame(references_list_icml, columns=['this_paper_infected','got_infected_by'])\n",
    "reference_df_naacl = pd.DataFrame(references_list_naacl, columns=['this_paper_infected','got_infected_by'])\n",
    "reference_df_neurips = pd.DataFrame(references_list_neurips, columns=['this_paper_infected','got_infected_by'])\n",
    "\n",
    "reference_df = pd.concat([reference_df_iclr, reference_df_acl, reference_df_cvpr, reference_df_emnlp, reference_df_iccv, reference_df_icml, reference_df_naacl, reference_df_neurips])\n",
    "reference_df.to_pickle(\"..\\\\data\\\\networks\\\\citation_network.pkl\")"
   ]
  },
  {
   "cell_type": "code",
   "execution_count": 9,
   "metadata": {},
   "outputs": [
    {
     "data": {
      "text/html": [
       "<div>\n",
       "<style scoped>\n",
       "    .dataframe tbody tr th:only-of-type {\n",
       "        vertical-align: middle;\n",
       "    }\n",
       "\n",
       "    .dataframe tbody tr th {\n",
       "        vertical-align: top;\n",
       "    }\n",
       "\n",
       "    .dataframe thead th {\n",
       "        text-align: right;\n",
       "    }\n",
       "</style>\n",
       "<table border=\"1\" class=\"dataframe\">\n",
       "  <thead>\n",
       "    <tr style=\"text-align: right;\">\n",
       "      <th></th>\n",
       "      <th>this_paper_infected</th>\n",
       "      <th>got_infected_by</th>\n",
       "    </tr>\n",
       "  </thead>\n",
       "  <tbody>\n",
       "    <tr>\n",
       "      <th>0</th>\n",
       "      <td>2963403868</td>\n",
       "      <td>2785994986</td>\n",
       "    </tr>\n",
       "    <tr>\n",
       "      <th>1</th>\n",
       "      <td>2963207607</td>\n",
       "      <td>2785994986</td>\n",
       "    </tr>\n",
       "    <tr>\n",
       "      <th>2</th>\n",
       "      <td>2134557905</td>\n",
       "      <td>2785994986</td>\n",
       "    </tr>\n",
       "    <tr>\n",
       "      <th>3</th>\n",
       "      <td>2154579312</td>\n",
       "      <td>2785994986</td>\n",
       "    </tr>\n",
       "    <tr>\n",
       "      <th>4</th>\n",
       "      <td>2966661</td>\n",
       "      <td>2785994986</td>\n",
       "    </tr>\n",
       "    <tr>\n",
       "      <th>...</th>\n",
       "      <td>...</td>\n",
       "      <td>...</td>\n",
       "    </tr>\n",
       "    <tr>\n",
       "      <th>2191</th>\n",
       "      <td>2482888308</td>\n",
       "      <td>2897127218</td>\n",
       "    </tr>\n",
       "    <tr>\n",
       "      <th>2192</th>\n",
       "      <td>2057624533</td>\n",
       "      <td>2897127218</td>\n",
       "    </tr>\n",
       "    <tr>\n",
       "      <th>2193</th>\n",
       "      <td>2103458172</td>\n",
       "      <td>2897127218</td>\n",
       "    </tr>\n",
       "    <tr>\n",
       "      <th>2194</th>\n",
       "      <td>2136885855</td>\n",
       "      <td>2897127218</td>\n",
       "    </tr>\n",
       "    <tr>\n",
       "      <th>2195</th>\n",
       "      <td>2804140211</td>\n",
       "      <td>2897127218</td>\n",
       "    </tr>\n",
       "  </tbody>\n",
       "</table>\n",
       "<p>409472 rows × 2 columns</p>\n",
       "</div>"
      ],
      "text/plain": [
       "      this_paper_infected  got_infected_by\n",
       "0              2963403868       2785994986\n",
       "1              2963207607       2785994986\n",
       "2              2134557905       2785994986\n",
       "3              2154579312       2785994986\n",
       "4                 2966661       2785994986\n",
       "...                   ...              ...\n",
       "2191           2482888308       2897127218\n",
       "2192           2057624533       2897127218\n",
       "2193           2103458172       2897127218\n",
       "2194           2136885855       2897127218\n",
       "2195           2804140211       2897127218\n",
       "\n",
       "[409472 rows x 2 columns]"
      ]
     },
     "execution_count": 9,
     "metadata": {},
     "output_type": "execute_result"
    }
   ],
   "source": [
    "reference_df = pd.read_pickle('..\\\\data\\\\networks\\\\citation_network.pkl')\n",
    "reference_df"
   ]
  },
  {
   "cell_type": "code",
   "execution_count": 12,
   "metadata": {},
   "outputs": [
    {
     "data": {
      "application/vnd.jupyter.widget-view+json": {
       "model_id": "58b41b7f638d4bb4b04a92badf1cf722",
       "version_major": 2,
       "version_minor": 0
      },
      "text/plain": [
       "HBox(children=(FloatProgress(value=1.0, bar_style='info', layout=Layout(width='20px'), max=1.0), HTML(value=''…"
      ]
     },
     "metadata": {},
     "output_type": "display_data"
    },
    {
     "name": "stdout",
     "output_type": "stream",
     "text": [
      "\n"
     ]
    }
   ],
   "source": [
    "valid_idx_infection = []\n",
    "all_paper_ids = set(all_paper_data_df['Id'].values)\n",
    "aw = all_paper_data_df.set_index('Id')['AW']\n",
    "f = all_paper_data_df.set_index('Id')['F']\n",
    "# print(all_paper_ids)\n",
    "for idx,row in tqdm(reference_df.iterrows()):\n",
    "    \n",
    "    source = row['this_paper_infected']\n",
    "    destination = row['got_infected_by']\n",
    "    if source in all_paper_ids and destination in all_paper_ids:\n",
    "        source_abstract = aw.at[source]\n",
    "        dest_abstract = aw.at[destination]\n",
    "        source_fos = f.at[source]\n",
    "        dest_fos = f.at[destination]\n",
    "        \n",
    "        # Make sure these fields aren't NaNs\n",
    "        if type(source_abstract) != float and type(dest_abstract) != float and type(source_fos) != float and type(dest_fos) != float:\n",
    "            #abstract overlap\n",
    "            source_abstract = set(source_abstract)\n",
    "            dest_abstract = set(dest_abstract)\n",
    "            abstract_overlap_score = len(set.intersection(source_abstract,dest_abstract))/min(len(source_abstract), len(dest_abstract))\n",
    "            #FOS overlap\n",
    "            source_fos = set([pair['FN'] for pair in source_fos])\n",
    "            dest_fos = set([pair['FN'] for pair in dest_fos])\n",
    "            fos_overlap_score = len(set.intersection(source_fos,dest_fos))/min(len(source_fos), len(dest_fos))\n",
    "            if abstract_overlap_score > 0.1 and fos_overlap_score > 0.1:\n",
    "                valid_idx_infection.append(idx)\n"
   ]
  },
  {
   "cell_type": "code",
   "execution_count": 13,
   "metadata": {},
   "outputs": [
    {
     "data": {
      "text/html": [
       "<div>\n",
       "<style scoped>\n",
       "    .dataframe tbody tr th:only-of-type {\n",
       "        vertical-align: middle;\n",
       "    }\n",
       "\n",
       "    .dataframe tbody tr th {\n",
       "        vertical-align: top;\n",
       "    }\n",
       "\n",
       "    .dataframe thead th {\n",
       "        text-align: right;\n",
       "    }\n",
       "</style>\n",
       "<table border=\"1\" class=\"dataframe\">\n",
       "  <thead>\n",
       "    <tr style=\"text-align: right;\">\n",
       "      <th></th>\n",
       "      <th>this_paper_infected</th>\n",
       "      <th>got_infected_by</th>\n",
       "    </tr>\n",
       "  </thead>\n",
       "  <tbody>\n",
       "    <tr>\n",
       "      <th>6</th>\n",
       "      <td>2576915720</td>\n",
       "      <td>2785994986</td>\n",
       "    </tr>\n",
       "    <tr>\n",
       "      <th>7</th>\n",
       "      <td>2136026194</td>\n",
       "      <td>2785994986</td>\n",
       "    </tr>\n",
       "    <tr>\n",
       "      <th>8</th>\n",
       "      <td>2340427832</td>\n",
       "      <td>2785994986</td>\n",
       "    </tr>\n",
       "    <tr>\n",
       "      <th>13</th>\n",
       "      <td>2963403868</td>\n",
       "      <td>2996428491</td>\n",
       "    </tr>\n",
       "    <tr>\n",
       "      <th>14</th>\n",
       "      <td>2250539671</td>\n",
       "      <td>2996428491</td>\n",
       "    </tr>\n",
       "    <tr>\n",
       "      <th>...</th>\n",
       "      <td>...</td>\n",
       "      <td>...</td>\n",
       "    </tr>\n",
       "    <tr>\n",
       "      <th>2143</th>\n",
       "      <td>2963108696</td>\n",
       "      <td>2995358843</td>\n",
       "    </tr>\n",
       "    <tr>\n",
       "      <th>2151</th>\n",
       "      <td>2155027007</td>\n",
       "      <td>2996031640</td>\n",
       "    </tr>\n",
       "    <tr>\n",
       "      <th>2158</th>\n",
       "      <td>2950492145</td>\n",
       "      <td>2996031640</td>\n",
       "    </tr>\n",
       "    <tr>\n",
       "      <th>2166</th>\n",
       "      <td>1533861849</td>\n",
       "      <td>2995492258</td>\n",
       "    </tr>\n",
       "    <tr>\n",
       "      <th>2173</th>\n",
       "      <td>2809090039</td>\n",
       "      <td>2995492258</td>\n",
       "    </tr>\n",
       "  </tbody>\n",
       "</table>\n",
       "<p>108326 rows × 2 columns</p>\n",
       "</div>"
      ],
      "text/plain": [
       "      this_paper_infected  got_infected_by\n",
       "6              2576915720       2785994986\n",
       "7              2136026194       2785994986\n",
       "8              2340427832       2785994986\n",
       "13             2963403868       2996428491\n",
       "14             2250539671       2996428491\n",
       "...                   ...              ...\n",
       "2143           2963108696       2995358843\n",
       "2151           2155027007       2996031640\n",
       "2158           2950492145       2996031640\n",
       "2166           1533861849       2995492258\n",
       "2173           2809090039       2995492258\n",
       "\n",
       "[108326 rows x 2 columns]"
      ]
     },
     "execution_count": 13,
     "metadata": {},
     "output_type": "execute_result"
    }
   ],
   "source": [
    "infected_df = reference_df.iloc[valid_idx_infection, :]\n",
    "infected_df.to_pickle(\"..\\\\data\\\\networks\\\\citation_infection_network.pkl\")\n",
    "infected_df = pd.read_pickle(\"..\\\\data\\\\networks\\\\citation_infection_network.pkl\")\n",
    "infected_df"
   ]
  },
  {
   "cell_type": "code",
   "execution_count": 14,
   "metadata": {},
   "outputs": [
    {
     "data": {
      "application/vnd.jupyter.widget-view+json": {
       "model_id": "7a3763627f4c4561abd6c3f7d61d3b0e",
       "version_major": 2,
       "version_minor": 0
      },
      "text/plain": [
       "HBox(children=(FloatProgress(value=1.0, bar_style='info', layout=Layout(width='20px'), max=1.0), HTML(value=''…"
      ]
     },
     "metadata": {},
     "output_type": "display_data"
    },
    {
     "name": "stdout",
     "output_type": "stream",
     "text": [
      "\n"
     ]
    }
   ],
   "source": [
    "cur_path = os.getcwd()\n",
    "review_df = pd.read_pickle(\"../data/paper_quality/review_data.pkl\")\n",
    "\n",
    "review_df['mag_id'] = [None]*len(review_df)\n",
    "for idx,row in tqdm(all_paper_data_df.iterrows()):\n",
    "    if row['Y'] != 2018:\n",
    "        continue\n",
    "    if row['C']['CN'] != 'iclr':\n",
    "        continue\n",
    "    match_series = review_df['title'].apply(lambda x : fuzzy_matching(x,row['Ti']))\n",
    "    match = review_df.loc[match_series == True]\n",
    "    if len(match)>0:\n",
    "        review_df.loc[match.index[0],'mag_id'] = row['Id']"
   ]
  },
  {
   "cell_type": "code",
   "execution_count": 15,
   "metadata": {},
   "outputs": [],
   "source": [
    "review_df_with_mag_id = review_df.query('mag_id > 0')"
   ]
  },
  {
   "cell_type": "code",
   "execution_count": 36,
   "metadata": {},
   "outputs": [],
   "source": [
    "review_df.to_pickle(\"..\\\\data\\\\paper_quality\\\\review_data_with_mag_id.pkl\")\n",
    "review_df_with_mag_id = pd.read_pickle(\"..\\\\data\\\\paper_quality\\\\review_data_with_mag_id.pkl\")"
   ]
  },
  {
   "cell_type": "code",
   "execution_count": 52,
   "metadata": {},
   "outputs": [
    {
     "data": {
      "text/html": [
       "<div>\n",
       "<style scoped>\n",
       "    .dataframe tbody tr th:only-of-type {\n",
       "        vertical-align: middle;\n",
       "    }\n",
       "\n",
       "    .dataframe tbody tr th {\n",
       "        vertical-align: top;\n",
       "    }\n",
       "\n",
       "    .dataframe thead th {\n",
       "        text-align: right;\n",
       "    }\n",
       "</style>\n",
       "<table border=\"1\" class=\"dataframe\">\n",
       "  <thead>\n",
       "    <tr style=\"text-align: right;\">\n",
       "      <th></th>\n",
       "      <th>mag_id</th>\n",
       "      <th>title</th>\n",
       "      <th>avg_review_score</th>\n",
       "      <th>afids</th>\n",
       "      <th>afns</th>\n",
       "    </tr>\n",
       "  </thead>\n",
       "  <tbody>\n",
       "    <tr>\n",
       "      <th>0</th>\n",
       "      <td>2963745360</td>\n",
       "      <td>certifying some distributional robustness with...</td>\n",
       "      <td>9.000000</td>\n",
       "      <td>[111088046, 111088046, 111088046]</td>\n",
       "      <td>[boston university, boston university, boston ...</td>\n",
       "    </tr>\n",
       "    <tr>\n",
       "      <th>1</th>\n",
       "      <td>2755806193</td>\n",
       "      <td>towards neural phrasebased machine translation</td>\n",
       "      <td>6.666667</td>\n",
       "      <td>[1290206253, 1291425158, 157725225, 1290206253...</td>\n",
       "      <td>[microsoft, google, university of illinois at ...</td>\n",
       "    </tr>\n",
       "    <tr>\n",
       "      <th>2</th>\n",
       "      <td>2963694384</td>\n",
       "      <td>weightless lossy weight encoding for deep neur...</td>\n",
       "      <td>5.333333</td>\n",
       "      <td>[125989756, 19880235, 125989756, 118501908, 11...</td>\n",
       "      <td>[skolkovo institute of science and technology,...</td>\n",
       "    </tr>\n",
       "    <tr>\n",
       "      <th>3</th>\n",
       "      <td>2962891854</td>\n",
       "      <td>interactive grounded language acquisition and ...</td>\n",
       "      <td>6.333333</td>\n",
       "      <td>[219193219, 170897317, 98301712]</td>\n",
       "      <td>[purdue university, duke university, baidu]</td>\n",
       "    </tr>\n",
       "    <tr>\n",
       "      <th>4</th>\n",
       "      <td>2963166610</td>\n",
       "      <td>countering adversarial images using input tran...</td>\n",
       "      <td>6.333333</td>\n",
       "      <td>[154570441, 154570441, 154570441, 154570441]</td>\n",
       "      <td>[university of california santa barbara, unive...</td>\n",
       "    </tr>\n",
       "    <tr>\n",
       "      <th>...</th>\n",
       "      <td>...</td>\n",
       "      <td>...</td>\n",
       "      <td>...</td>\n",
       "      <td>...</td>\n",
       "      <td>...</td>\n",
       "    </tr>\n",
       "    <tr>\n",
       "      <th>411</th>\n",
       "      <td>2964139811</td>\n",
       "      <td>fraternal dropout</td>\n",
       "      <td>5.333333</td>\n",
       "      <td>[74801974, 74801974, 74801974, 111088046]</td>\n",
       "      <td>[university of tokyo, university of tokyo, uni...</td>\n",
       "    </tr>\n",
       "    <tr>\n",
       "      <th>412</th>\n",
       "      <td>2963695795</td>\n",
       "      <td>wsnet learning compact and efficient networks ...</td>\n",
       "      <td>5.666667</td>\n",
       "      <td>[1341412227, 1341412227, 1341412227]</td>\n",
       "      <td>[ibm, ibm, ibm]</td>\n",
       "    </tr>\n",
       "    <tr>\n",
       "      <th>413</th>\n",
       "      <td>2786230348</td>\n",
       "      <td>deep learning mutation prediction enables earl...</td>\n",
       "      <td>5.666667</td>\n",
       "      <td>[205783295, 53964585, 205783295, 205783295, 16...</td>\n",
       "      <td>[cornell university, weizmann institute of sci...</td>\n",
       "    </tr>\n",
       "    <tr>\n",
       "      <th>414</th>\n",
       "      <td>2962875400</td>\n",
       "      <td>covariant compositional networks for learning ...</td>\n",
       "      <td>5.333333</td>\n",
       "      <td>[40347166, 40347166, 40347166, 160992636]</td>\n",
       "      <td>[university of chicago, university of chicago,...</td>\n",
       "    </tr>\n",
       "    <tr>\n",
       "      <th>415</th>\n",
       "      <td>2972959421</td>\n",
       "      <td>learning efficient tensor representations with...</td>\n",
       "      <td>5.333333</td>\n",
       "      <td>[200769079, 74801974, 185365093, 66083562]</td>\n",
       "      <td>[hong kong university of science and technolog...</td>\n",
       "    </tr>\n",
       "  </tbody>\n",
       "</table>\n",
       "<p>416 rows × 5 columns</p>\n",
       "</div>"
      ],
      "text/plain": [
       "         mag_id                                              title  \\\n",
       "0    2963745360  certifying some distributional robustness with...   \n",
       "1    2755806193     towards neural phrasebased machine translation   \n",
       "2    2963694384  weightless lossy weight encoding for deep neur...   \n",
       "3    2962891854  interactive grounded language acquisition and ...   \n",
       "4    2963166610  countering adversarial images using input tran...   \n",
       "..          ...                                                ...   \n",
       "411  2964139811                                  fraternal dropout   \n",
       "412  2963695795  wsnet learning compact and efficient networks ...   \n",
       "413  2786230348  deep learning mutation prediction enables earl...   \n",
       "414  2962875400  covariant compositional networks for learning ...   \n",
       "415  2972959421  learning efficient tensor representations with...   \n",
       "\n",
       "     avg_review_score                                              afids  \\\n",
       "0            9.000000                  [111088046, 111088046, 111088046]   \n",
       "1            6.666667  [1290206253, 1291425158, 157725225, 1290206253...   \n",
       "2            5.333333  [125989756, 19880235, 125989756, 118501908, 11...   \n",
       "3            6.333333                   [219193219, 170897317, 98301712]   \n",
       "4            6.333333       [154570441, 154570441, 154570441, 154570441]   \n",
       "..                ...                                                ...   \n",
       "411          5.333333          [74801974, 74801974, 74801974, 111088046]   \n",
       "412          5.666667               [1341412227, 1341412227, 1341412227]   \n",
       "413          5.666667  [205783295, 53964585, 205783295, 205783295, 16...   \n",
       "414          5.333333          [40347166, 40347166, 40347166, 160992636]   \n",
       "415          5.333333         [200769079, 74801974, 185365093, 66083562]   \n",
       "\n",
       "                                                  afns  \n",
       "0    [boston university, boston university, boston ...  \n",
       "1    [microsoft, google, university of illinois at ...  \n",
       "2    [skolkovo institute of science and technology,...  \n",
       "3          [purdue university, duke university, baidu]  \n",
       "4    [university of california santa barbara, unive...  \n",
       "..                                                 ...  \n",
       "411  [university of tokyo, university of tokyo, uni...  \n",
       "412                                    [ibm, ibm, ibm]  \n",
       "413  [cornell university, weizmann institute of sci...  \n",
       "414  [university of chicago, university of chicago,...  \n",
       "415  [hong kong university of science and technolog...  \n",
       "\n",
       "[416 rows x 5 columns]"
      ]
     },
     "execution_count": 52,
     "metadata": {},
     "output_type": "execute_result"
    }
   ],
   "source": [
    "review_df_updated = pd.read_pickle(\"..\\\\data\\\\paper_quality\\\\iclr_matched_papers.pkl\")\n",
    "review_df_updated"
   ]
  },
  {
   "cell_type": "code",
   "execution_count": 37,
   "metadata": {},
   "outputs": [
    {
     "name": "stdout",
     "output_type": "stream",
     "text": [
      "36578\n"
     ]
    }
   ],
   "source": [
    "edge_endpoints = set(infected_df.values.flatten())\n",
    "print(len(edge_endpoints))"
   ]
  },
  {
   "cell_type": "code",
   "execution_count": 57,
   "metadata": {},
   "outputs": [
    {
     "name": "stdout",
     "output_type": "stream",
     "text": [
      "217\n",
      "199\n"
     ]
    },
    {
     "data": {
      "text/html": [
       "<div>\n",
       "<style scoped>\n",
       "    .dataframe tbody tr th:only-of-type {\n",
       "        vertical-align: middle;\n",
       "    }\n",
       "\n",
       "    .dataframe tbody tr th {\n",
       "        vertical-align: top;\n",
       "    }\n",
       "\n",
       "    .dataframe thead th {\n",
       "        text-align: right;\n",
       "    }\n",
       "</style>\n",
       "<table border=\"1\" class=\"dataframe\">\n",
       "  <thead>\n",
       "    <tr style=\"text-align: right;\">\n",
       "      <th></th>\n",
       "      <th>mag_id</th>\n",
       "      <th>rating</th>\n",
       "      <th>prestige</th>\n",
       "    </tr>\n",
       "  </thead>\n",
       "  <tbody>\n",
       "    <tr>\n",
       "      <th>3</th>\n",
       "      <td>2962891854</td>\n",
       "      <td>6.333333</td>\n",
       "      <td>0.248911</td>\n",
       "    </tr>\n",
       "    <tr>\n",
       "      <th>9</th>\n",
       "      <td>2963420658</td>\n",
       "      <td>7.000000</td>\n",
       "      <td>0.496263</td>\n",
       "    </tr>\n",
       "    <tr>\n",
       "      <th>11</th>\n",
       "      <td>2923023063</td>\n",
       "      <td>6.000000</td>\n",
       "      <td>0.330826</td>\n",
       "    </tr>\n",
       "    <tr>\n",
       "      <th>16</th>\n",
       "      <td>2963564796</td>\n",
       "      <td>6.333333</td>\n",
       "      <td>0.571592</td>\n",
       "    </tr>\n",
       "    <tr>\n",
       "      <th>17</th>\n",
       "      <td>2963477238</td>\n",
       "      <td>6.666667</td>\n",
       "      <td>0.248911</td>\n",
       "    </tr>\n",
       "    <tr>\n",
       "      <th>...</th>\n",
       "      <td>...</td>\n",
       "      <td>...</td>\n",
       "      <td>...</td>\n",
       "    </tr>\n",
       "    <tr>\n",
       "      <th>405</th>\n",
       "      <td>2963780574</td>\n",
       "      <td>6.250000</td>\n",
       "      <td>0.725119</td>\n",
       "    </tr>\n",
       "    <tr>\n",
       "      <th>406</th>\n",
       "      <td>2963088756</td>\n",
       "      <td>5.666667</td>\n",
       "      <td>0.878647</td>\n",
       "    </tr>\n",
       "    <tr>\n",
       "      <th>407</th>\n",
       "      <td>2787178869</td>\n",
       "      <td>7.000000</td>\n",
       "      <td>0.300273</td>\n",
       "    </tr>\n",
       "    <tr>\n",
       "      <th>411</th>\n",
       "      <td>2964139811</td>\n",
       "      <td>6.666667</td>\n",
       "      <td>0.197850</td>\n",
       "    </tr>\n",
       "    <tr>\n",
       "      <th>414</th>\n",
       "      <td>2962875400</td>\n",
       "      <td>5.333333</td>\n",
       "      <td>0.303780</td>\n",
       "    </tr>\n",
       "  </tbody>\n",
       "</table>\n",
       "<p>123 rows × 3 columns</p>\n",
       "</div>"
      ],
      "text/plain": [
       "         mag_id    rating  prestige\n",
       "3    2962891854  6.333333  0.248911\n",
       "9    2963420658  7.000000  0.496263\n",
       "11   2923023063  6.000000  0.330826\n",
       "16   2963564796  6.333333  0.571592\n",
       "17   2963477238  6.666667  0.248911\n",
       "..          ...       ...       ...\n",
       "405  2963780574  6.250000  0.725119\n",
       "406  2963088756  5.666667  0.878647\n",
       "407  2787178869  7.000000  0.300273\n",
       "411  2964139811  6.666667  0.197850\n",
       "414  2962875400  5.333333  0.303780\n",
       "\n",
       "[123 rows x 3 columns]"
      ]
     },
     "execution_count": 57,
     "metadata": {},
     "output_type": "execute_result"
    }
   ],
   "source": [
    "patient_zero_ids = [row['mag_id'] for idx,row in review_df_updated.iterrows() if row['mag_id'] is not None]\n",
    "patient_zero_ratings = [review_df_updated[review_df_updated['mag_id'] == mag_id]['avg_review_score'].values[0] for mag_id in patient_zero_ids]\n",
    "\n",
    "none_counter = 0\n",
    "counter = 0\n",
    "affiliation_df = pd.read_pickle(\"..\\\\data\\\\prestige\\\\prestige_data.pkl\")\n",
    "patient_zero_prestiges = []\n",
    "for patient_zero in patient_zero_ids:\n",
    "    #author_affiliations = [authdict['AfId'] for authdict in all_paper_data_df[all_paper_data_df['Id'] == patient_zero]['AA'].values[0]]\n",
    "    author_affiliations = review_df_updated[review_df_updated['mag_id']==patient_zero]['afids'].values[0]\n",
    "    prestiges = [affiliation_df[affiliation_df['id'] == affiliation]['prestige'].values[0] for affiliation in author_affiliations if affiliation is not None]\n",
    "    prestiges = [item for item in prestiges if str(item) != 'nan']\n",
    "    if len(prestiges)>0:\n",
    "        patient_zero_prestiges.append(statistics.mean(prestiges))\n",
    "        counter += 1\n",
    "    else:\n",
    "        patient_zero_prestiges.append(None)\n",
    "        none_counter += 1\n",
    "\n",
    "print(counter)\n",
    "print(none_counter)\n",
    "\n",
    "patient_zero_df = pd.DataFrame()\n",
    "patient_zero_df['mag_id'] = patient_zero_ids\n",
    "patient_zero_df['rating'] = patient_zero_ratings\n",
    "patient_zero_df['prestige'] = patient_zero_prestiges\n",
    "patient_zero_df = patient_zero_df[~patient_zero_df['prestige'].isnull()]\n",
    "patient_zero_df = patient_zero_df[patient_zero_df['mag_id'].map(lambda x: x in edge_endpoints)]\n",
    "patient_zero_df"
   ]
  },
  {
   "cell_type": "code",
   "execution_count": 62,
   "metadata": {},
   "outputs": [],
   "source": [
    "G_infection = nx.from_pandas_edgelist(infected_df, source='this_paper_infected', target='got_infected_by',create_using=nx.DiGraph())"
   ]
  },
  {
   "cell_type": "code",
   "execution_count": 63,
   "metadata": {},
   "outputs": [
    {
     "data": {
      "text/plain": [
       "(123, 5)"
      ]
     },
     "execution_count": 63,
     "metadata": {},
     "output_type": "execute_result"
    }
   ],
   "source": [
    "patient_zero_df['descendants'] = patient_zero_df.loc[~patient_zero_df['prestige'].isnull(),'mag_id'].map(lambda x : descendants(G_infection,x))\n",
    "patient_zero_df['n_descendants'] = patient_zero_df['descendants'].map(len)\n",
    "patient_zero_df.shape"
   ]
  },
  {
   "cell_type": "code",
   "execution_count": 64,
   "metadata": {},
   "outputs": [],
   "source": [
    "network_list = []\n",
    "founders_list = []\n",
    "for idx,row in patient_zero_df.iterrows():\n",
    "    founder = row['mag_id']\n",
    "    authorset_founders = all_paper_data_df[all_paper_data_df['Id']==founder]['AA'].values[0]\n",
    "    founders_list.append(authorset_founders)\n",
    "    descendants = row['descendants']\n",
    "    network = []\n",
    "    for descendant in descendants:\n",
    "        authorset = all_paper_data_df[all_paper_data_df['Id']==descendant]['AA'].values[0]\n",
    "        network.extend(authorset)\n",
    "    network_list.append(network)\n",
    "patient_zero_df['descendants_network'] = network_list\n",
    "patient_zero_df['founders_network'] = network_list"
   ]
  },
  {
   "cell_type": "code",
   "execution_count": 87,
   "metadata": {},
   "outputs": [],
   "source": [
    "def categorize(score):\n",
    "    if score < 4:\n",
    "        return 'weak'\n",
    "    if score in (4,5):\n",
    "        return 'avg'\n",
    "    if score in (6,7):\n",
    "        return 'good'\n",
    "    else: return 'strong'"
   ]
  },
  {
   "cell_type": "code",
   "execution_count": 66,
   "metadata": {},
   "outputs": [],
   "source": [
    "patient_zero_df.to_pickle(\"..\\\\data\\\\patient_zero_data.pkl\")"
   ]
  },
  {
   "cell_type": "code",
   "execution_count": 88,
   "metadata": {},
   "outputs": [
    {
     "data": {
      "text/html": [
       "<div>\n",
       "<style scoped>\n",
       "    .dataframe tbody tr th:only-of-type {\n",
       "        vertical-align: middle;\n",
       "    }\n",
       "\n",
       "    .dataframe tbody tr th {\n",
       "        vertical-align: top;\n",
       "    }\n",
       "\n",
       "    .dataframe thead th {\n",
       "        text-align: right;\n",
       "    }\n",
       "</style>\n",
       "<table border=\"1\" class=\"dataframe\">\n",
       "  <thead>\n",
       "    <tr style=\"text-align: right;\">\n",
       "      <th></th>\n",
       "      <th>mag_id</th>\n",
       "      <th>rating</th>\n",
       "      <th>prestige</th>\n",
       "      <th>descendants</th>\n",
       "      <th>n_descendants</th>\n",
       "      <th>descendants_network</th>\n",
       "      <th>founders_network</th>\n",
       "      <th>caliber</th>\n",
       "    </tr>\n",
       "  </thead>\n",
       "  <tbody>\n",
       "    <tr>\n",
       "      <th>3</th>\n",
       "      <td>2962891854</td>\n",
       "      <td>6.333333</td>\n",
       "      <td>0.248911</td>\n",
       "      <td>{2964267256, 2962732398}</td>\n",
       "      <td>2</td>\n",
       "      <td>[{'AuN': 'haichao zhang', 'AuId': 2135445600, ...</td>\n",
       "      <td>[{'AuN': 'haichao zhang', 'AuId': 2135445600, ...</td>\n",
       "      <td>strong</td>\n",
       "    </tr>\n",
       "    <tr>\n",
       "      <th>9</th>\n",
       "      <td>2963420658</td>\n",
       "      <td>7.000000</td>\n",
       "      <td>0.496263</td>\n",
       "      <td>{2963938169, 3034834827, 2972376180}</td>\n",
       "      <td>3</td>\n",
       "      <td>[{'AuN': 'aaditya prakash', 'AuId': 2531407982...</td>\n",
       "      <td>[{'AuN': 'aaditya prakash', 'AuId': 2531407982...</td>\n",
       "      <td>good</td>\n",
       "    </tr>\n",
       "    <tr>\n",
       "      <th>11</th>\n",
       "      <td>2923023063</td>\n",
       "      <td>6.000000</td>\n",
       "      <td>0.330826</td>\n",
       "      <td>{2994753955, 2995210711}</td>\n",
       "      <td>2</td>\n",
       "      <td>[{'AuN': 'jacob beck', 'AuId': 2884496934, 'Af...</td>\n",
       "      <td>[{'AuN': 'jacob beck', 'AuId': 2884496934, 'Af...</td>\n",
       "      <td>good</td>\n",
       "    </tr>\n",
       "    <tr>\n",
       "      <th>16</th>\n",
       "      <td>2963564796</td>\n",
       "      <td>6.333333</td>\n",
       "      <td>0.571592</td>\n",
       "      <td>{2995807242, 3035355914, 2949847757, 299563892...</td>\n",
       "      <td>25</td>\n",
       "      <td>[{'AuN': 'seohyun back', 'AuId': 2886766219, '...</td>\n",
       "      <td>[{'AuN': 'seohyun back', 'AuId': 2886766219, '...</td>\n",
       "      <td>strong</td>\n",
       "    </tr>\n",
       "    <tr>\n",
       "      <th>17</th>\n",
       "      <td>2963477238</td>\n",
       "      <td>6.666667</td>\n",
       "      <td>0.248911</td>\n",
       "      <td>{2963912736, 3034693764, 2953365509, 296430164...</td>\n",
       "      <td>5</td>\n",
       "      <td>[{'AuN': 'guoyin wang', 'AuId': 2749292628, 'A...</td>\n",
       "      <td>[{'AuN': 'guoyin wang', 'AuId': 2749292628, 'A...</td>\n",
       "      <td>strong</td>\n",
       "    </tr>\n",
       "    <tr>\n",
       "      <th>...</th>\n",
       "      <td>...</td>\n",
       "      <td>...</td>\n",
       "      <td>...</td>\n",
       "      <td>...</td>\n",
       "      <td>...</td>\n",
       "      <td>...</td>\n",
       "      <td>...</td>\n",
       "      <td>...</td>\n",
       "    </tr>\n",
       "    <tr>\n",
       "      <th>405</th>\n",
       "      <td>2963780574</td>\n",
       "      <td>6.250000</td>\n",
       "      <td>0.725119</td>\n",
       "      <td>{2995058766, 2995372087}</td>\n",
       "      <td>2</td>\n",
       "      <td>[{'AuN': 'henry zhu', 'AuId': 2897915262, 'AfN...</td>\n",
       "      <td>[{'AuN': 'henry zhu', 'AuId': 2897915262, 'AfN...</td>\n",
       "      <td>strong</td>\n",
       "    </tr>\n",
       "    <tr>\n",
       "      <th>406</th>\n",
       "      <td>2963088756</td>\n",
       "      <td>5.666667</td>\n",
       "      <td>0.878647</td>\n",
       "      <td>{2967186499, 2995849700, 3034376488, 303472852...</td>\n",
       "      <td>9</td>\n",
       "      <td>[{'AuN': 'khanh nguyen', 'AuId': 2557541860, '...</td>\n",
       "      <td>[{'AuN': 'khanh nguyen', 'AuId': 2557541860, '...</td>\n",
       "      <td>strong</td>\n",
       "    </tr>\n",
       "    <tr>\n",
       "      <th>407</th>\n",
       "      <td>2787178869</td>\n",
       "      <td>7.000000</td>\n",
       "      <td>0.300273</td>\n",
       "      <td>{2994984846}</td>\n",
       "      <td>1</td>\n",
       "      <td>[{'AuN': 'sejun park', 'AuId': 2486030179, 'Af...</td>\n",
       "      <td>[{'AuN': 'sejun park', 'AuId': 2486030179, 'Af...</td>\n",
       "      <td>good</td>\n",
       "    </tr>\n",
       "    <tr>\n",
       "      <th>411</th>\n",
       "      <td>2964139811</td>\n",
       "      <td>6.666667</td>\n",
       "      <td>0.197850</td>\n",
       "      <td>{2963532621}</td>\n",
       "      <td>1</td>\n",
       "      <td>[{'AuN': 'guoliang kang', 'AuId': 2745716684, ...</td>\n",
       "      <td>[{'AuN': 'guoliang kang', 'AuId': 2745716684, ...</td>\n",
       "      <td>strong</td>\n",
       "    </tr>\n",
       "    <tr>\n",
       "      <th>414</th>\n",
       "      <td>2962875400</td>\n",
       "      <td>5.333333</td>\n",
       "      <td>0.303780</td>\n",
       "      <td>{2995509042}</td>\n",
       "      <td>1</td>\n",
       "      <td>[{'AuN': 'hongbin pei', 'AuId': 2224914650, 'A...</td>\n",
       "      <td>[{'AuN': 'hongbin pei', 'AuId': 2224914650, 'A...</td>\n",
       "      <td>strong</td>\n",
       "    </tr>\n",
       "  </tbody>\n",
       "</table>\n",
       "<p>123 rows × 8 columns</p>\n",
       "</div>"
      ],
      "text/plain": [
       "         mag_id    rating  prestige  \\\n",
       "3    2962891854  6.333333  0.248911   \n",
       "9    2963420658  7.000000  0.496263   \n",
       "11   2923023063  6.000000  0.330826   \n",
       "16   2963564796  6.333333  0.571592   \n",
       "17   2963477238  6.666667  0.248911   \n",
       "..          ...       ...       ...   \n",
       "405  2963780574  6.250000  0.725119   \n",
       "406  2963088756  5.666667  0.878647   \n",
       "407  2787178869  7.000000  0.300273   \n",
       "411  2964139811  6.666667  0.197850   \n",
       "414  2962875400  5.333333  0.303780   \n",
       "\n",
       "                                           descendants  n_descendants  \\\n",
       "3                             {2964267256, 2962732398}              2   \n",
       "9                 {2963938169, 3034834827, 2972376180}              3   \n",
       "11                            {2994753955, 2995210711}              2   \n",
       "16   {2995807242, 3035355914, 2949847757, 299563892...             25   \n",
       "17   {2963912736, 3034693764, 2953365509, 296430164...              5   \n",
       "..                                                 ...            ...   \n",
       "405                           {2995058766, 2995372087}              2   \n",
       "406  {2967186499, 2995849700, 3034376488, 303472852...              9   \n",
       "407                                       {2994984846}              1   \n",
       "411                                       {2963532621}              1   \n",
       "414                                       {2995509042}              1   \n",
       "\n",
       "                                   descendants_network  \\\n",
       "3    [{'AuN': 'haichao zhang', 'AuId': 2135445600, ...   \n",
       "9    [{'AuN': 'aaditya prakash', 'AuId': 2531407982...   \n",
       "11   [{'AuN': 'jacob beck', 'AuId': 2884496934, 'Af...   \n",
       "16   [{'AuN': 'seohyun back', 'AuId': 2886766219, '...   \n",
       "17   [{'AuN': 'guoyin wang', 'AuId': 2749292628, 'A...   \n",
       "..                                                 ...   \n",
       "405  [{'AuN': 'henry zhu', 'AuId': 2897915262, 'AfN...   \n",
       "406  [{'AuN': 'khanh nguyen', 'AuId': 2557541860, '...   \n",
       "407  [{'AuN': 'sejun park', 'AuId': 2486030179, 'Af...   \n",
       "411  [{'AuN': 'guoliang kang', 'AuId': 2745716684, ...   \n",
       "414  [{'AuN': 'hongbin pei', 'AuId': 2224914650, 'A...   \n",
       "\n",
       "                                      founders_network caliber  \n",
       "3    [{'AuN': 'haichao zhang', 'AuId': 2135445600, ...  strong  \n",
       "9    [{'AuN': 'aaditya prakash', 'AuId': 2531407982...    good  \n",
       "11   [{'AuN': 'jacob beck', 'AuId': 2884496934, 'Af...    good  \n",
       "16   [{'AuN': 'seohyun back', 'AuId': 2886766219, '...  strong  \n",
       "17   [{'AuN': 'guoyin wang', 'AuId': 2749292628, 'A...  strong  \n",
       "..                                                 ...     ...  \n",
       "405  [{'AuN': 'henry zhu', 'AuId': 2897915262, 'AfN...  strong  \n",
       "406  [{'AuN': 'khanh nguyen', 'AuId': 2557541860, '...  strong  \n",
       "407  [{'AuN': 'sejun park', 'AuId': 2486030179, 'Af...    good  \n",
       "411  [{'AuN': 'guoliang kang', 'AuId': 2745716684, ...  strong  \n",
       "414  [{'AuN': 'hongbin pei', 'AuId': 2224914650, 'A...  strong  \n",
       "\n",
       "[123 rows x 8 columns]"
      ]
     },
     "execution_count": 88,
     "metadata": {},
     "output_type": "execute_result"
    }
   ],
   "source": [
    "patient_zero_df['caliber'] = patient_zero_df['rating'].apply(lambda x: categorize(x))\n",
    "patient_zero_df"
   ]
  },
  {
   "cell_type": "code",
   "execution_count": 85,
   "metadata": {},
   "outputs": [
    {
     "data": {
      "image/png": "[encoded data removed]",
      "text/plain": [
       "<Figure size 432x288 with 1 Axes>"
      ]
     },
     "metadata": {
      "needs_background": "light"
     },
     "output_type": "display_data"
    }
   ],
   "source": [
    "plt.scatter(list(patient_zero_df['prestige']), list(patient_zero_df['descendants_network'].apply(lambda x : len(x))))\n",
    "plt.xlabel('University Prestige of Idea')\n",
    "plt.ylabel('Number of Researchers Infected')\n",
    "plt.show()"
   ]
  },
  {
   "cell_type": "code",
   "execution_count": 77,
   "metadata": {},
   "outputs": [
    {
     "data": {
      "image/png": "[encoded data removed]",
      "text/plain": [
       "<Figure size 432x288 with 1 Axes>"
      ]
     },
     "metadata": {
      "needs_background": "light"
     },
     "output_type": "display_data"
    }
   ],
   "source": [
    "plt.scatter(list(patient_zero_df['rating']), list(patient_zero_df['descendants_network'].apply(lambda x : len(x))))\n",
    "plt.xlabel('Caliber of Idea')\n",
    "plt.ylabel('Number of Researchers Infected')\n",
    "plt.show()"
   ]
  },
  {
   "cell_type": "code",
   "execution_count": 79,
   "metadata": {},
   "outputs": [
    {
     "data": {
      "image/png": "[encoded data removed]",
      "text/plain": [
       "<Figure size 432x288 with 1 Axes>"
      ]
     },
     "metadata": {
      "needs_background": "light"
     },
     "output_type": "display_data"
    }
   ],
   "source": [
    "plt.scatter(list(patient_zero_df['rating']), list(patient_zero_df['prestige']))\n",
    "plt.xlabel('Caliber of Idea')\n",
    "plt.ylabel('Idea Origin University Prestige')\n",
    "plt.show()"
   ]
  },
  {
   "cell_type": "code",
   "execution_count": 84,
   "metadata": {},
   "outputs": [
    {
     "data": {
      "image/png": "[encoded data removed]",
      "text/plain": [
       "<Figure size 432x288 with 1 Axes>"
      ]
     },
     "metadata": {
      "needs_background": "light"
     },
     "output_type": "display_data"
    }
   ],
   "source": [
    "plt.scatter(list(patient_zero_df['prestige']), patient_zero_df['n_descendants'])\n",
    "plt.xlabel('University Prestige of Idea')\n",
    "plt.ylabel('Number of Papers Infected')\n",
    "plt.show()"
   ]
  },
  {
   "cell_type": "code",
   "execution_count": 83,
   "metadata": {},
   "outputs": [
    {
     "data": {
      "image/png": "[encoded data removed]",
      "text/plain": [
       "<Figure size 432x288 with 1 Axes>"
      ]
     },
     "metadata": {
      "needs_background": "light"
     },
     "output_type": "display_data"
    }
   ],
   "source": [
    "plt.scatter(list(patient_zero_df['rating']), list(patient_zero_df['n_descendants']))\n",
    "plt.xlabel('Caliber of Idea')\n",
    "plt.ylabel('Number of Papers Infected')\n",
    "plt.show()"
   ]
  },
  {
   "cell_type": "code",
   "execution_count": 98,
   "metadata": {},
   "outputs": [
    {
     "data": {
      "image/png": "[encoded data removed]",
      "text/plain": [
       "<Figure size 432x288 with 1 Axes>"
      ]
     },
     "metadata": {
      "needs_background": "light"
     },
     "output_type": "display_data"
    },
    {
     "data": {
      "image/png": "[encoded data removed]",
      "text/plain": [
       "<Figure size 432x288 with 1 Axes>"
      ]
     },
     "metadata": {
      "needs_background": "light"
     },
     "output_type": "display_data"
    },
    {
     "data": {
      "image/png": "[encoded data removed]",
      "text/plain": [
       "<Figure size 432x288 with 1 Axes>"
      ]
     },
     "metadata": {
      "needs_background": "light"
     },
     "output_type": "display_data"
    },
    {
     "data": {
      "image/png": "[encoded data removed]",
      "text/plain": [
       "<Figure size 432x288 with 1 Axes>"
      ]
     },
     "metadata": {
      "needs_background": "light"
     },
     "output_type": "display_data"
    },
    {
     "data": {
      "image/png": "[encoded data removed]",
      "text/plain": [
       "<Figure size 432x288 with 1 Axes>"
      ]
     },
     "metadata": {
      "needs_background": "light"
     },
     "output_type": "display_data"
    }
   ],
   "source": [
    "def plot_df_scatter_sum(xlabel,ylabel,x,y):\n",
    "    plot_df = pd.DataFrame()\n",
    "    plot_df[xlabel] = x\n",
    "    plot_df[ylabel] = y\n",
    "    plot_df.groupby(xlabel).agg({ylabel: ['sum']}).reset_index().plot(kind=\"scatter\", x=xlabel, y=ylabel)\n",
    "    plt.show()\n",
    "    \n",
    "def plot_df_scatter_mean(xlabel,ylabel,x,y):\n",
    "    plot_df = pd.DataFrame()\n",
    "    plot_df[xlabel] = x\n",
    "    plot_df[ylabel] = y\n",
    "    plot_df.groupby(xlabel).agg({ylabel: ['mean']}).reset_index().plot(kind=\"scatter\", x=xlabel, y=ylabel)\n",
    "    plt.show()\n",
    "    \n",
    "plot_df_scatter_sum(\"University Prestige of Idea\",\"Number of Researchers Infected\",patient_zero_df['prestige'],patient_zero_df['descendants_network'].apply(lambda x : len(x)))   \n",
    "plot_df_scatter_sum(\"Caliber of Idea\",\"Number of Researchers Infected\",patient_zero_df['rating'], patient_zero_df['descendants_network'].apply(lambda x : len(x)))\n",
    "plot_df_scatter_mean(\"Caliber of Idea\",\"Idea Origin University Prestige\",patient_zero_df['rating'], patient_zero_df['prestige'])   \n",
    "plot_df_scatter_sum(\"University Prestige of Idea\",'Number of Papers Infected',patient_zero_df['prestige'], patient_zero_df['n_descendants'])\n",
    "plot_df_scatter_sum(\"Caliber of Idea\",'Number of Papers Infected',patient_zero_df['rating'], patient_zero_df['n_descendants'])   "
   ]
  },
  {
   "cell_type": "code",
   "execution_count": null,
   "metadata": {},
   "outputs": [],
   "source": []
  }
 ],
 "metadata": {
  "kernelspec": {
   "display_name": "Python 3",
   "language": "python",
   "name": "python3"
  },
  "language_info": {
   "codemirror_mode": {
    "name": "ipython",
    "version": 3
   },
   "file_extension": ".py",
   "mimetype": "text/x-python",
   "name": "python",
   "nbconvert_exporter": "python",
   "pygments_lexer": "ipython3",
   "version": "3.7.9"
  }
 },
 "nbformat": 4,
 "nbformat_minor": 4
}
