{
 "cells": [
  {
   "cell_type": "code",
   "execution_count": null,
   "metadata": {},
   "outputs": [],
   "source": [
    "import pandas as pd\n",
    "import os\n",
    "import json\n",
    "from tqdm import tqdm\n",
    "import networkx as nx\n",
    "import semanticscholar as sch\n",
    "import urllib\n",
    "import json\n",
    "import requests"
   ]
  },
  {
   "cell_type": "code",
   "execution_count": null,
   "metadata": {},
   "outputs": [],
   "source": [
    "def get_paper_abstract(mag_id):\n",
    "    try:\n",
    "        url = 'https://api.semanticscholar.org/v1/paper/MAG:' + str(mag_id)\n",
    "        data = requests.get(url).json()\n",
    "        return data['abstract']\n",
    "    except Exception as e:\n",
    "        print(\"Paper ID \",mag_id,\" defaulted!\")\n",
    "        return \"\"\n",
    "    \n",
    "all_paper_data_df['abstract'] = all_paper_data_df['Id'].apply(lambda mag_id: get_paper_abstract(mag_id))    \n",
    "all_titles_blob = ' '.join(all_paper_data_df[\"DN\"])\n",
    "all_abstract_words_blob = ' '.join([' '.join(wordlist) for wordlist in all_paper_data_df[\"AW\"] if type(wordlist)!=float])\n",
    "blob_path = os.path.relpath('..//data//paper_data_mag//blob', cur_path)\n",
    "with open(blob_path+'_titles.txt', \"w\",encoding=\"utf-8\") as text_file:\n",
    "    text_file.write(all_titles_blob)\n",
    "with open(blob_path+'_abstract_words.txt', \"w\", encoding=\"utf-8\") as text_file:\n",
    "    text_file.write(all_abstract_words_blob)"
   ]
  }
 ],
 "metadata": {
  "kernelspec": {
   "display_name": "Python 3",
   "language": "python",
   "name": "python3"
  },
  "language_info": {
   "codemirror_mode": {
    "name": "ipython",
    "version": 3
   },
   "file_extension": ".py",
   "mimetype": "text/x-python",
   "name": "python",
   "nbconvert_exporter": "python",
   "pygments_lexer": "ipython3",
   "version": "3.7.9"
  }
 },
 "nbformat": 4,
 "nbformat_minor": 4
}
