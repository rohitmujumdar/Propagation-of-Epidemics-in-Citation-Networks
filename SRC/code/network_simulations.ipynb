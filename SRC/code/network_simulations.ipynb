{
 "cells": [
  {
   "cell_type": "markdown",
   "metadata": {},
   "source": [
    "# SIR Network Simulations\n",
    "\n",
    "This notebook creates a collaboration network of researchers and "
   ]
  },
  {
   "cell_type": "code",
   "execution_count": 98,
   "metadata": {},
   "outputs": [
    {
     "name": "stdout",
     "output_type": "stream",
     "text": [
      "INFO: Pandarallel will run on 48 workers.\n",
      "INFO: Pandarallel will use Memory file system to transfer data between the main process and workers.\n"
     ]
    }
   ],
   "source": [
    "# Imports\n",
    "import numpy as np\n",
    "import pandas as pd\n",
    "import pickle\n",
    "import seaborn as sns\n",
    "import networkx as nx\n",
    "import warnings\n",
    "\n",
    "# Submodules\n",
    "from matplotlib import pyplot as plt\n",
    "from tqdm.auto import tqdm, trange\n",
    "from EoN import fast_SIR, fast_SIS\n",
    "from pandarallel import pandarallel\n",
    "\n",
    "# Configuration\n",
    "tqdm.pandas()\n",
    "sns.set()\n",
    "pandarallel.initialize(progress_bar=True)\n",
    "warnings.filterwarnings('ignore')"
   ]
  },
  {
   "cell_type": "code",
   "execution_count": 103,
   "metadata": {},
   "outputs": [],
   "source": [
    "def get_num_infected(g, rating, initial, tau_factor=.01, gamma=.2, n_repeats=100, tmax=2):\n",
    "    infected = np.zeros(n_repeats)\n",
    "    for i in range(n_repeats):\n",
    "        out = fast_SIR(g, rating*tau_factor, gamma, initial_infecteds=initial_infected, tmax=tmax)\n",
    "        infected[i] = np.sum([arr[-1] for arr in out[-2:]])\n",
    "    return infected.mean()\n",
    "    "
   ]
  },
  {
   "cell_type": "code",
   "execution_count": 104,
   "metadata": {},
   "outputs": [],
   "source": [
    "# Load collaboration network data\n",
    "edge_list = pickle.load(open('../data/edges/edge_list.pkl', 'rb'))\n",
    "edge_list[:5]\n",
    "g = nx.Graph()\n",
    "g.add_edges_from(edge_list)"
   ]
  },
  {
   "cell_type": "code",
   "execution_count": 105,
   "metadata": {},
   "outputs": [
    {
     "data": {
      "text/html": [
       "<div>\n",
       "<style scoped>\n",
       "    .dataframe tbody tr th:only-of-type {\n",
       "        vertical-align: middle;\n",
       "    }\n",
       "\n",
       "    .dataframe tbody tr th {\n",
       "        vertical-align: top;\n",
       "    }\n",
       "\n",
       "    .dataframe thead th {\n",
       "        text-align: right;\n",
       "    }\n",
       "</style>\n",
       "<table border=\"1\" class=\"dataframe\">\n",
       "  <thead>\n",
       "    <tr style=\"text-align: right;\">\n",
       "      <th></th>\n",
       "      <th>mag_id</th>\n",
       "      <th>rating</th>\n",
       "      <th>prestige</th>\n",
       "      <th>descendants</th>\n",
       "      <th>n_descendants</th>\n",
       "      <th>descendants_network</th>\n",
       "      <th>founders_network</th>\n",
       "      <th>initial_cases</th>\n",
       "    </tr>\n",
       "  </thead>\n",
       "  <tbody>\n",
       "    <tr>\n",
       "      <th>3</th>\n",
       "      <td>2962891854</td>\n",
       "      <td>6.333333</td>\n",
       "      <td>0.426472</td>\n",
       "      <td>{2964267256, 2962732398}</td>\n",
       "      <td>2</td>\n",
       "      <td>[{'AuN': 'haichao zhang', 'AuId': 2135445600, ...</td>\n",
       "      <td>[{'AuN': 'haichao zhang', 'AuId': 2135445600, ...</td>\n",
       "      <td>[2135445600, 2150512450, 2695418315, 290292702...</td>\n",
       "    </tr>\n",
       "    <tr>\n",
       "      <th>9</th>\n",
       "      <td>2963420658</td>\n",
       "      <td>7.000000</td>\n",
       "      <td>0.662641</td>\n",
       "      <td>{2963938169, 3034834827, 2972376180}</td>\n",
       "      <td>3</td>\n",
       "      <td>[{'AuN': 'aaditya prakash', 'AuId': 2531407982...</td>\n",
       "      <td>[{'AuN': 'aaditya prakash', 'AuId': 2531407982...</td>\n",
       "      <td>[2531407982, 696551267, 2096808804, 2109608981...</td>\n",
       "    </tr>\n",
       "    <tr>\n",
       "      <th>11</th>\n",
       "      <td>2923023063</td>\n",
       "      <td>6.000000</td>\n",
       "      <td>0.393117</td>\n",
       "      <td>{2994753955, 2995210711}</td>\n",
       "      <td>2</td>\n",
       "      <td>[{'AuN': 'jacob beck', 'AuId': 2884496934, 'Af...</td>\n",
       "      <td>[{'AuN': 'jacob beck', 'AuId': 2884496934, 'Af...</td>\n",
       "      <td>[2884496934, 2128714294, 3000054061, 341038388...</td>\n",
       "    </tr>\n",
       "    <tr>\n",
       "      <th>16</th>\n",
       "      <td>2963564796</td>\n",
       "      <td>6.333333</td>\n",
       "      <td>0.826825</td>\n",
       "      <td>{2995807242, 3035355914, 2995638926, 299592360...</td>\n",
       "      <td>25</td>\n",
       "      <td>[{'AuN': 'seohyun back', 'AuId': 2886766219, '...</td>\n",
       "      <td>[{'AuN': 'seohyun back', 'AuId': 2886766219, '...</td>\n",
       "      <td>[2886766219, 2995349293, 2995726838, 273323480...</td>\n",
       "    </tr>\n",
       "    <tr>\n",
       "      <th>17</th>\n",
       "      <td>2963477238</td>\n",
       "      <td>6.666667</td>\n",
       "      <td>0.426472</td>\n",
       "      <td>{2963912736, 3034693764, 2953365509, 296430164...</td>\n",
       "      <td>5</td>\n",
       "      <td>[{'AuN': 'guoyin wang', 'AuId': 2749292628, 'A...</td>\n",
       "      <td>[{'AuN': 'guoyin wang', 'AuId': 2749292628, 'A...</td>\n",
       "      <td>[2749292628, 2520266005, 2547034632, 251556465...</td>\n",
       "    </tr>\n",
       "    <tr>\n",
       "      <th>...</th>\n",
       "      <td>...</td>\n",
       "      <td>...</td>\n",
       "      <td>...</td>\n",
       "      <td>...</td>\n",
       "      <td>...</td>\n",
       "      <td>...</td>\n",
       "      <td>...</td>\n",
       "      <td>...</td>\n",
       "    </tr>\n",
       "    <tr>\n",
       "      <th>405</th>\n",
       "      <td>2963780574</td>\n",
       "      <td>6.250000</td>\n",
       "      <td>0.842317</td>\n",
       "      <td>{2995058766, 2995372087}</td>\n",
       "      <td>2</td>\n",
       "      <td>[{'AuN': 'henry zhu', 'AuId': 2897915262, 'AfN...</td>\n",
       "      <td>[{'AuN': 'henry zhu', 'AuId': 2897915262, 'AfN...</td>\n",
       "      <td>[2897915262, 2995453652, 2197765385, 299596810...</td>\n",
       "    </tr>\n",
       "    <tr>\n",
       "      <th>406</th>\n",
       "      <td>2963088756</td>\n",
       "      <td>5.666667</td>\n",
       "      <td>0.857809</td>\n",
       "      <td>{2967186499, 2995849700, 3034376488, 303472852...</td>\n",
       "      <td>9</td>\n",
       "      <td>[{'AuN': 'khanh nguyen', 'AuId': 2557541860, '...</td>\n",
       "      <td>[{'AuN': 'khanh nguyen', 'AuId': 2557541860, '...</td>\n",
       "      <td>[2557541860, 2129358305, 2095316779, 216565969...</td>\n",
       "    </tr>\n",
       "    <tr>\n",
       "      <th>407</th>\n",
       "      <td>2787178869</td>\n",
       "      <td>7.000000</td>\n",
       "      <td>0.505026</td>\n",
       "      <td>{2994984846}</td>\n",
       "      <td>1</td>\n",
       "      <td>[{'AuN': 'sejun park', 'AuId': 2486030179, 'Af...</td>\n",
       "      <td>[{'AuN': 'sejun park', 'AuId': 2486030179, 'Af...</td>\n",
       "      <td>[2486030179, 2995442791, 2907807185, 2298251316]</td>\n",
       "    </tr>\n",
       "    <tr>\n",
       "      <th>411</th>\n",
       "      <td>2964139811</td>\n",
       "      <td>6.666667</td>\n",
       "      <td>0.357735</td>\n",
       "      <td>{2963532621}</td>\n",
       "      <td>1</td>\n",
       "      <td>[{'AuN': 'guoliang kang', 'AuId': 2745716684, ...</td>\n",
       "      <td>[{'AuN': 'guoliang kang', 'AuId': 2745716684, ...</td>\n",
       "      <td>[2745716684, 2118651624, 2430169722, 2113269357]</td>\n",
       "    </tr>\n",
       "    <tr>\n",
       "      <th>414</th>\n",
       "      <td>2962875400</td>\n",
       "      <td>5.333333</td>\n",
       "      <td>0.421588</td>\n",
       "      <td>{2995509042}</td>\n",
       "      <td>1</td>\n",
       "      <td>[{'AuN': 'hongbin pei', 'AuId': 2224914650, 'A...</td>\n",
       "      <td>[{'AuN': 'hongbin pei', 'AuId': 2224914650, 'A...</td>\n",
       "      <td>[2224914650, 2995326184, 2096749051, 255005946...</td>\n",
       "    </tr>\n",
       "  </tbody>\n",
       "</table>\n",
       "<p>141 rows × 8 columns</p>\n",
       "</div>"
      ],
      "text/plain": [
       "         mag_id    rating  prestige  \\\n",
       "3    2962891854  6.333333  0.426472   \n",
       "9    2963420658  7.000000  0.662641   \n",
       "11   2923023063  6.000000  0.393117   \n",
       "16   2963564796  6.333333  0.826825   \n",
       "17   2963477238  6.666667  0.426472   \n",
       "..          ...       ...       ...   \n",
       "405  2963780574  6.250000  0.842317   \n",
       "406  2963088756  5.666667  0.857809   \n",
       "407  2787178869  7.000000  0.505026   \n",
       "411  2964139811  6.666667  0.357735   \n",
       "414  2962875400  5.333333  0.421588   \n",
       "\n",
       "                                           descendants  n_descendants  \\\n",
       "3                             {2964267256, 2962732398}              2   \n",
       "9                 {2963938169, 3034834827, 2972376180}              3   \n",
       "11                            {2994753955, 2995210711}              2   \n",
       "16   {2995807242, 3035355914, 2995638926, 299592360...             25   \n",
       "17   {2963912736, 3034693764, 2953365509, 296430164...              5   \n",
       "..                                                 ...            ...   \n",
       "405                           {2995058766, 2995372087}              2   \n",
       "406  {2967186499, 2995849700, 3034376488, 303472852...              9   \n",
       "407                                       {2994984846}              1   \n",
       "411                                       {2963532621}              1   \n",
       "414                                       {2995509042}              1   \n",
       "\n",
       "                                   descendants_network  \\\n",
       "3    [{'AuN': 'haichao zhang', 'AuId': 2135445600, ...   \n",
       "9    [{'AuN': 'aaditya prakash', 'AuId': 2531407982...   \n",
       "11   [{'AuN': 'jacob beck', 'AuId': 2884496934, 'Af...   \n",
       "16   [{'AuN': 'seohyun back', 'AuId': 2886766219, '...   \n",
       "17   [{'AuN': 'guoyin wang', 'AuId': 2749292628, 'A...   \n",
       "..                                                 ...   \n",
       "405  [{'AuN': 'henry zhu', 'AuId': 2897915262, 'AfN...   \n",
       "406  [{'AuN': 'khanh nguyen', 'AuId': 2557541860, '...   \n",
       "407  [{'AuN': 'sejun park', 'AuId': 2486030179, 'Af...   \n",
       "411  [{'AuN': 'guoliang kang', 'AuId': 2745716684, ...   \n",
       "414  [{'AuN': 'hongbin pei', 'AuId': 2224914650, 'A...   \n",
       "\n",
       "                                      founders_network  \\\n",
       "3    [{'AuN': 'haichao zhang', 'AuId': 2135445600, ...   \n",
       "9    [{'AuN': 'aaditya prakash', 'AuId': 2531407982...   \n",
       "11   [{'AuN': 'jacob beck', 'AuId': 2884496934, 'Af...   \n",
       "16   [{'AuN': 'seohyun back', 'AuId': 2886766219, '...   \n",
       "17   [{'AuN': 'guoyin wang', 'AuId': 2749292628, 'A...   \n",
       "..                                                 ...   \n",
       "405  [{'AuN': 'henry zhu', 'AuId': 2897915262, 'AfN...   \n",
       "406  [{'AuN': 'khanh nguyen', 'AuId': 2557541860, '...   \n",
       "407  [{'AuN': 'sejun park', 'AuId': 2486030179, 'Af...   \n",
       "411  [{'AuN': 'guoliang kang', 'AuId': 2745716684, ...   \n",
       "414  [{'AuN': 'hongbin pei', 'AuId': 2224914650, 'A...   \n",
       "\n",
       "                                         initial_cases  \n",
       "3    [2135445600, 2150512450, 2695418315, 290292702...  \n",
       "9    [2531407982, 696551267, 2096808804, 2109608981...  \n",
       "11   [2884496934, 2128714294, 3000054061, 341038388...  \n",
       "16   [2886766219, 2995349293, 2995726838, 273323480...  \n",
       "17   [2749292628, 2520266005, 2547034632, 251556465...  \n",
       "..                                                 ...  \n",
       "405  [2897915262, 2995453652, 2197765385, 299596810...  \n",
       "406  [2557541860, 2129358305, 2095316779, 216565969...  \n",
       "407   [2486030179, 2995442791, 2907807185, 2298251316]  \n",
       "411   [2745716684, 2118651624, 2430169722, 2113269357]  \n",
       "414  [2224914650, 2995326184, 2096749051, 255005946...  \n",
       "\n",
       "[141 rows x 8 columns]"
      ]
     },
     "execution_count": 105,
     "metadata": {},
     "output_type": "execute_result"
    }
   ],
   "source": [
    "# Patient zero\n",
    "patient_zero = pd.read_pickle(\"../data/patient_zero_data.pkl\")\n",
    "patient_zero['initial_cases'] = patient_zero.founders_network.map(lambda l: [x['AuId'] for x in l])\n",
    "patient_zero"
   ]
  },
  {
   "cell_type": "code",
   "execution_count": 106,
   "metadata": {},
   "outputs": [
    {
     "data": {
      "application/vnd.jupyter.widget-view+json": {
       "model_id": "6dc4e28ac1e94ea4b3dd076db8e56c3c",
       "version_major": 2,
       "version_minor": 0
      },
      "text/plain": [
       "VBox(children=(HBox(children=(IntProgress(value=0, description='0.00%', max=3), Label(value='0 / 3'))), HBox(c…"
      ]
     },
     "metadata": {},
     "output_type": "display_data"
    }
   ],
   "source": [
    "patient_zero['simulated_infections'] = patient_zero[['rating','initial_cases']].parallel_apply(lambda x: get_num_infected(g, x[0], x[1]), axis=1)"
   ]
  },
  {
   "cell_type": "code",
   "execution_count": 107,
   "metadata": {},
   "outputs": [
    {
     "data": {
      "application/vnd.jupyter.widget-view+json": {
       "model_id": "6ace7c1959d940d3807fd721671723cc",
       "version_major": 2,
       "version_minor": 0
      },
      "text/plain": [
       "HBox(children=(FloatProgress(value=0.0, max=141.0), HTML(value='')))"
      ]
     },
     "metadata": {},
     "output_type": "display_data"
    },
    {
     "name": "stdout",
     "output_type": "stream",
     "text": [
      "\n"
     ]
    },
    {
     "data": {
      "text/html": [
       "<div>\n",
       "<style scoped>\n",
       "    .dataframe tbody tr th:only-of-type {\n",
       "        vertical-align: middle;\n",
       "    }\n",
       "\n",
       "    .dataframe tbody tr th {\n",
       "        vertical-align: top;\n",
       "    }\n",
       "\n",
       "    .dataframe thead th {\n",
       "        text-align: right;\n",
       "    }\n",
       "</style>\n",
       "<table border=\"1\" class=\"dataframe\">\n",
       "  <thead>\n",
       "    <tr style=\"text-align: right;\">\n",
       "      <th></th>\n",
       "      <th>mag_id</th>\n",
       "      <th>rating</th>\n",
       "      <th>prestige</th>\n",
       "      <th>descendants</th>\n",
       "      <th>n_descendants</th>\n",
       "      <th>descendants_network</th>\n",
       "      <th>founders_network</th>\n",
       "      <th>initial_cases</th>\n",
       "      <th>simulated_infections</th>\n",
       "      <th>author_infections</th>\n",
       "    </tr>\n",
       "  </thead>\n",
       "  <tbody>\n",
       "    <tr>\n",
       "      <th>3</th>\n",
       "      <td>2962891854</td>\n",
       "      <td>6.333333</td>\n",
       "      <td>0.426472</td>\n",
       "      <td>{2964267256, 2962732398}</td>\n",
       "      <td>2</td>\n",
       "      <td>[{'AuN': 'haichao zhang', 'AuId': 2135445600, ...</td>\n",
       "      <td>[{'AuN': 'haichao zhang', 'AuId': 2135445600, ...</td>\n",
       "      <td>[2135445600, 2150512450, 2695418315, 290292702...</td>\n",
       "      <td>927.66</td>\n",
       "      <td>8</td>\n",
       "    </tr>\n",
       "    <tr>\n",
       "      <th>9</th>\n",
       "      <td>2963420658</td>\n",
       "      <td>7.000000</td>\n",
       "      <td>0.662641</td>\n",
       "      <td>{2963938169, 3034834827, 2972376180}</td>\n",
       "      <td>3</td>\n",
       "      <td>[{'AuN': 'aaditya prakash', 'AuId': 2531407982...</td>\n",
       "      <td>[{'AuN': 'aaditya prakash', 'AuId': 2531407982...</td>\n",
       "      <td>[2531407982, 696551267, 2096808804, 2109608981...</td>\n",
       "      <td>978.21</td>\n",
       "      <td>10</td>\n",
       "    </tr>\n",
       "    <tr>\n",
       "      <th>11</th>\n",
       "      <td>2923023063</td>\n",
       "      <td>6.000000</td>\n",
       "      <td>0.393117</td>\n",
       "      <td>{2994753955, 2995210711}</td>\n",
       "      <td>2</td>\n",
       "      <td>[{'AuN': 'jacob beck', 'AuId': 2884496934, 'Af...</td>\n",
       "      <td>[{'AuN': 'jacob beck', 'AuId': 2884496934, 'Af...</td>\n",
       "      <td>[2884496934, 2128714294, 3000054061, 341038388...</td>\n",
       "      <td>727.53</td>\n",
       "      <td>11</td>\n",
       "    </tr>\n",
       "    <tr>\n",
       "      <th>16</th>\n",
       "      <td>2963564796</td>\n",
       "      <td>6.333333</td>\n",
       "      <td>0.826825</td>\n",
       "      <td>{2995807242, 3035355914, 2995638926, 299592360...</td>\n",
       "      <td>25</td>\n",
       "      <td>[{'AuN': 'seohyun back', 'AuId': 2886766219, '...</td>\n",
       "      <td>[{'AuN': 'seohyun back', 'AuId': 2886766219, '...</td>\n",
       "      <td>[2886766219, 2995349293, 2995726838, 273323480...</td>\n",
       "      <td>898.71</td>\n",
       "      <td>110</td>\n",
       "    </tr>\n",
       "    <tr>\n",
       "      <th>17</th>\n",
       "      <td>2963477238</td>\n",
       "      <td>6.666667</td>\n",
       "      <td>0.426472</td>\n",
       "      <td>{2963912736, 3034693764, 2953365509, 296430164...</td>\n",
       "      <td>5</td>\n",
       "      <td>[{'AuN': 'guoyin wang', 'AuId': 2749292628, 'A...</td>\n",
       "      <td>[{'AuN': 'guoyin wang', 'AuId': 2749292628, 'A...</td>\n",
       "      <td>[2749292628, 2520266005, 2547034632, 251556465...</td>\n",
       "      <td>875.37</td>\n",
       "      <td>22</td>\n",
       "    </tr>\n",
       "    <tr>\n",
       "      <th>...</th>\n",
       "      <td>...</td>\n",
       "      <td>...</td>\n",
       "      <td>...</td>\n",
       "      <td>...</td>\n",
       "      <td>...</td>\n",
       "      <td>...</td>\n",
       "      <td>...</td>\n",
       "      <td>...</td>\n",
       "      <td>...</td>\n",
       "      <td>...</td>\n",
       "    </tr>\n",
       "    <tr>\n",
       "      <th>405</th>\n",
       "      <td>2963780574</td>\n",
       "      <td>6.250000</td>\n",
       "      <td>0.842317</td>\n",
       "      <td>{2995058766, 2995372087}</td>\n",
       "      <td>2</td>\n",
       "      <td>[{'AuN': 'henry zhu', 'AuId': 2897915262, 'AfN...</td>\n",
       "      <td>[{'AuN': 'henry zhu', 'AuId': 2897915262, 'AfN...</td>\n",
       "      <td>[2897915262, 2995453652, 2197765385, 299596810...</td>\n",
       "      <td>708.48</td>\n",
       "      <td>13</td>\n",
       "    </tr>\n",
       "    <tr>\n",
       "      <th>406</th>\n",
       "      <td>2963088756</td>\n",
       "      <td>5.666667</td>\n",
       "      <td>0.857809</td>\n",
       "      <td>{2967186499, 2995849700, 3034376488, 303472852...</td>\n",
       "      <td>9</td>\n",
       "      <td>[{'AuN': 'khanh nguyen', 'AuId': 2557541860, '...</td>\n",
       "      <td>[{'AuN': 'khanh nguyen', 'AuId': 2557541860, '...</td>\n",
       "      <td>[2557541860, 2129358305, 2095316779, 216565969...</td>\n",
       "      <td>625.41</td>\n",
       "      <td>37</td>\n",
       "    </tr>\n",
       "    <tr>\n",
       "      <th>407</th>\n",
       "      <td>2787178869</td>\n",
       "      <td>7.000000</td>\n",
       "      <td>0.505026</td>\n",
       "      <td>{2994984846}</td>\n",
       "      <td>1</td>\n",
       "      <td>[{'AuN': 'sejun park', 'AuId': 2486030179, 'Af...</td>\n",
       "      <td>[{'AuN': 'sejun park', 'AuId': 2486030179, 'Af...</td>\n",
       "      <td>[2486030179, 2995442791, 2907807185, 2298251316]</td>\n",
       "      <td>1016.08</td>\n",
       "      <td>4</td>\n",
       "    </tr>\n",
       "    <tr>\n",
       "      <th>411</th>\n",
       "      <td>2964139811</td>\n",
       "      <td>6.666667</td>\n",
       "      <td>0.357735</td>\n",
       "      <td>{2963532621}</td>\n",
       "      <td>1</td>\n",
       "      <td>[{'AuN': 'guoliang kang', 'AuId': 2745716684, ...</td>\n",
       "      <td>[{'AuN': 'guoliang kang', 'AuId': 2745716684, ...</td>\n",
       "      <td>[2745716684, 2118651624, 2430169722, 2113269357]</td>\n",
       "      <td>960.44</td>\n",
       "      <td>4</td>\n",
       "    </tr>\n",
       "    <tr>\n",
       "      <th>414</th>\n",
       "      <td>2962875400</td>\n",
       "      <td>5.333333</td>\n",
       "      <td>0.421588</td>\n",
       "      <td>{2995509042}</td>\n",
       "      <td>1</td>\n",
       "      <td>[{'AuN': 'hongbin pei', 'AuId': 2224914650, 'A...</td>\n",
       "      <td>[{'AuN': 'hongbin pei', 'AuId': 2224914650, 'A...</td>\n",
       "      <td>[2224914650, 2995326184, 2096749051, 255005946...</td>\n",
       "      <td>542.80</td>\n",
       "      <td>5</td>\n",
       "    </tr>\n",
       "  </tbody>\n",
       "</table>\n",
       "<p>141 rows × 10 columns</p>\n",
       "</div>"
      ],
      "text/plain": [
       "         mag_id    rating  prestige  \\\n",
       "3    2962891854  6.333333  0.426472   \n",
       "9    2963420658  7.000000  0.662641   \n",
       "11   2923023063  6.000000  0.393117   \n",
       "16   2963564796  6.333333  0.826825   \n",
       "17   2963477238  6.666667  0.426472   \n",
       "..          ...       ...       ...   \n",
       "405  2963780574  6.250000  0.842317   \n",
       "406  2963088756  5.666667  0.857809   \n",
       "407  2787178869  7.000000  0.505026   \n",
       "411  2964139811  6.666667  0.357735   \n",
       "414  2962875400  5.333333  0.421588   \n",
       "\n",
       "                                           descendants  n_descendants  \\\n",
       "3                             {2964267256, 2962732398}              2   \n",
       "9                 {2963938169, 3034834827, 2972376180}              3   \n",
       "11                            {2994753955, 2995210711}              2   \n",
       "16   {2995807242, 3035355914, 2995638926, 299592360...             25   \n",
       "17   {2963912736, 3034693764, 2953365509, 296430164...              5   \n",
       "..                                                 ...            ...   \n",
       "405                           {2995058766, 2995372087}              2   \n",
       "406  {2967186499, 2995849700, 3034376488, 303472852...              9   \n",
       "407                                       {2994984846}              1   \n",
       "411                                       {2963532621}              1   \n",
       "414                                       {2995509042}              1   \n",
       "\n",
       "                                   descendants_network  \\\n",
       "3    [{'AuN': 'haichao zhang', 'AuId': 2135445600, ...   \n",
       "9    [{'AuN': 'aaditya prakash', 'AuId': 2531407982...   \n",
       "11   [{'AuN': 'jacob beck', 'AuId': 2884496934, 'Af...   \n",
       "16   [{'AuN': 'seohyun back', 'AuId': 2886766219, '...   \n",
       "17   [{'AuN': 'guoyin wang', 'AuId': 2749292628, 'A...   \n",
       "..                                                 ...   \n",
       "405  [{'AuN': 'henry zhu', 'AuId': 2897915262, 'AfN...   \n",
       "406  [{'AuN': 'khanh nguyen', 'AuId': 2557541860, '...   \n",
       "407  [{'AuN': 'sejun park', 'AuId': 2486030179, 'Af...   \n",
       "411  [{'AuN': 'guoliang kang', 'AuId': 2745716684, ...   \n",
       "414  [{'AuN': 'hongbin pei', 'AuId': 2224914650, 'A...   \n",
       "\n",
       "                                      founders_network  \\\n",
       "3    [{'AuN': 'haichao zhang', 'AuId': 2135445600, ...   \n",
       "9    [{'AuN': 'aaditya prakash', 'AuId': 2531407982...   \n",
       "11   [{'AuN': 'jacob beck', 'AuId': 2884496934, 'Af...   \n",
       "16   [{'AuN': 'seohyun back', 'AuId': 2886766219, '...   \n",
       "17   [{'AuN': 'guoyin wang', 'AuId': 2749292628, 'A...   \n",
       "..                                                 ...   \n",
       "405  [{'AuN': 'henry zhu', 'AuId': 2897915262, 'AfN...   \n",
       "406  [{'AuN': 'khanh nguyen', 'AuId': 2557541860, '...   \n",
       "407  [{'AuN': 'sejun park', 'AuId': 2486030179, 'Af...   \n",
       "411  [{'AuN': 'guoliang kang', 'AuId': 2745716684, ...   \n",
       "414  [{'AuN': 'hongbin pei', 'AuId': 2224914650, 'A...   \n",
       "\n",
       "                                         initial_cases  simulated_infections  \\\n",
       "3    [2135445600, 2150512450, 2695418315, 290292702...                927.66   \n",
       "9    [2531407982, 696551267, 2096808804, 2109608981...                978.21   \n",
       "11   [2884496934, 2128714294, 3000054061, 341038388...                727.53   \n",
       "16   [2886766219, 2995349293, 2995726838, 273323480...                898.71   \n",
       "17   [2749292628, 2520266005, 2547034632, 251556465...                875.37   \n",
       "..                                                 ...                   ...   \n",
       "405  [2897915262, 2995453652, 2197765385, 299596810...                708.48   \n",
       "406  [2557541860, 2129358305, 2095316779, 216565969...                625.41   \n",
       "407   [2486030179, 2995442791, 2907807185, 2298251316]               1016.08   \n",
       "411   [2745716684, 2118651624, 2430169722, 2113269357]                960.44   \n",
       "414  [2224914650, 2995326184, 2096749051, 255005946...                542.80   \n",
       "\n",
       "     author_infections  \n",
       "3                    8  \n",
       "9                   10  \n",
       "11                  11  \n",
       "16                 110  \n",
       "17                  22  \n",
       "..                 ...  \n",
       "405                 13  \n",
       "406                 37  \n",
       "407                  4  \n",
       "411                  4  \n",
       "414                  5  \n",
       "\n",
       "[141 rows x 10 columns]"
      ]
     },
     "execution_count": 107,
     "metadata": {},
     "output_type": "execute_result"
    }
   ],
   "source": [
    "patient_zero['author_infections'] = patient_zero[['descendants_network',\n",
    "                                                  'founders_network']\n",
    "                                                ].progress_apply(lambda x: \n",
    "                                                                len(set([a['AuId'] for a in x[0]] + \n",
    "                                                                        [b['AuId'] for b in x[1]])), \n",
    "                                                                axis=1)\n",
    "patient_zero"
   ]
  },
  {
   "cell_type": "markdown",
   "metadata": {},
   "source": [
    "## Create figures"
   ]
  },
  {
   "cell_type": "code",
   "execution_count": 109,
   "metadata": {
    "scrolled": false
   },
   "outputs": [
    {
     "name": "stderr",
     "output_type": "stream",
     "text": [
      "'c' argument looks like a single numeric RGB or RGBA sequence, which should be avoided as value-mapping will have precedence in case its length matches with 'x' & 'y'.  Please use a 2-D array with a single row if you really want to specify the same RGB or RGBA value for all points.\n"
     ]
    },
    {
     "data": {
      "image/png": "[encoded data removed]",
      "text/plain": [
       "<Figure size 432x288 with 1 Axes>"
      ]
     },
     "metadata": {},
     "output_type": "display_data"
    },
    {
     "name": "stderr",
     "output_type": "stream",
     "text": [
      "'c' argument looks like a single numeric RGB or RGBA sequence, which should be avoided as value-mapping will have precedence in case its length matches with 'x' & 'y'.  Please use a 2-D array with a single row if you really want to specify the same RGB or RGBA value for all points.\n"
     ]
    },
    {
     "data": {
      "image/png": "[encoded data removed]",
      "text/plain": [
       "<Figure size 432x288 with 1 Axes>"
      ]
     },
     "metadata": {},
     "output_type": "display_data"
    },
    {
     "name": "stderr",
     "output_type": "stream",
     "text": [
      "'c' argument looks like a single numeric RGB or RGBA sequence, which should be avoided as value-mapping will have precedence in case its length matches with 'x' & 'y'.  Please use a 2-D array with a single row if you really want to specify the same RGB or RGBA value for all points.\n"
     ]
    },
    {
     "data": {
      "image/png": "[encoded data removed]",
      "text/plain": [
       "<Figure size 432x288 with 1 Axes>"
      ]
     },
     "metadata": {},
     "output_type": "display_data"
    },
    {
     "name": "stderr",
     "output_type": "stream",
     "text": [
      "'c' argument looks like a single numeric RGB or RGBA sequence, which should be avoided as value-mapping will have precedence in case its length matches with 'x' & 'y'.  Please use a 2-D array with a single row if you really want to specify the same RGB or RGBA value for all points.\n"
     ]
    },
    {
     "data": {
      "image/png": "[encoded data removed]",
      "text/plain": [
       "<Figure size 432x288 with 1 Axes>"
      ]
     },
     "metadata": {},
     "output_type": "display_data"
    },
    {
     "name": "stderr",
     "output_type": "stream",
     "text": [
      "'c' argument looks like a single numeric RGB or RGBA sequence, which should be avoided as value-mapping will have precedence in case its length matches with 'x' & 'y'.  Please use a 2-D array with a single row if you really want to specify the same RGB or RGBA value for all points.\n"
     ]
    },
    {
     "data": {
      "image/png": "[encoded data removed]",
      "text/plain": [
       "<Figure size 432x288 with 1 Axes>"
      ]
     },
     "metadata": {},
     "output_type": "display_data"
    },
    {
     "name": "stderr",
     "output_type": "stream",
     "text": [
      "'c' argument looks like a single numeric RGB or RGBA sequence, which should be avoided as value-mapping will have precedence in case its length matches with 'x' & 'y'.  Please use a 2-D array with a single row if you really want to specify the same RGB or RGBA value for all points.\n"
     ]
    },
    {
     "data": {
      "image/png": "[encoded data removed]",
      "text/plain": [
       "<Figure size 432x288 with 1 Axes>"
      ]
     },
     "metadata": {},
     "output_type": "display_data"
    },
    {
     "name": "stderr",
     "output_type": "stream",
     "text": [
      "'c' argument looks like a single numeric RGB or RGBA sequence, which should be avoided as value-mapping will have precedence in case its length matches with 'x' & 'y'.  Please use a 2-D array with a single row if you really want to specify the same RGB or RGBA value for all points.\n"
     ]
    },
    {
     "data": {
      "image/png": "[encoded data removed]",
      "text/plain": [
       "<Figure size 432x288 with 1 Axes>"
      ]
     },
     "metadata": {},
     "output_type": "display_data"
    }
   ],
   "source": [
    "# fig, ax = plt.subplots(3,2)\n",
    "patient_zero.plot.scatter('rating','prestige', alpha=.5)\n",
    "plt.show()\n",
    "\n",
    "patient_zero.plot.scatter('rating','author_infections', alpha=.5)\n",
    "plt.show()\n",
    "\n",
    "patient_zero.plot.scatter('rating','n_descendants', alpha=.5)\n",
    "plt.show()\n",
    "\n",
    "patient_zero.plot.scatter('prestige','author_infections', alpha=.5)\n",
    "plt.show()\n",
    "\n",
    "patient_zero.plot.scatter('prestige','simulated_infections', alpha=.5)\n",
    "plt.show()\n",
    "\n",
    "patient_zero.plot.scatter('prestige','n_descendants', alpha=.5)\n",
    "plt.show()\n",
    "   \n",
    "patient_zero.plot.scatter('simulated_infections','author_infections', alpha=.5)\n",
    "plt.show()\n",
    "\n"
   ]
  }
 ],
 "metadata": {
  "kernelspec": {
   "display_name": "Python [default]",
   "language": "python",
   "name": "python3"
  },
  "language_info": {
   "codemirror_mode": {
    "name": "ipython",
    "version": 3
   },
   "file_extension": ".py",
   "mimetype": "text/x-python",
   "name": "python",
   "nbconvert_exporter": "python",
   "pygments_lexer": "ipython3",
   "version": "3.6.10"
  }
 },
 "nbformat": 4,
 "nbformat_minor": 2
}
